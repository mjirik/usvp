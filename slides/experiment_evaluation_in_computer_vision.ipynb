{
 "cells": [
  {
   "cell_type": "markdown",
   "id": "5ccc79e7",
   "metadata": {
    "slideshow": {
     "slide_type": "slide"
    }
   },
   "source": [
    "# Taxonomy and evaluation of Computer Vision Tasks\n",
    "\n",
    "## Miroslav Jiřík\n"
   ]
  },
  {
   "cell_type": "markdown",
   "id": "8d8bacd9-d4a2-499e-ac63-69636898a26a",
   "metadata": {
    "slideshow": {
     "slide_type": "slide"
    },
    "tags": []
   },
   "source": [
    "# Tasks in Computer Vision\n"
   ]
  },
  {
   "cell_type": "markdown",
   "id": "2b590fba-c43b-490e-bd01-81c291a4818e",
   "metadata": {
    "slideshow": {
     "slide_type": "slide"
    },
    "tags": []
   },
   "source": [
    "# Goal\n",
    "  * Make a list of all important computer vision tasks\n",
    "  * Learn how to evaluate the experiment"
   ]
  },
  {
   "cell_type": "code",
   "execution_count": null,
   "id": "2636e6f4-d386-4b48-800c-016ea2ede85b",
   "metadata": {
    "slideshow": {
     "slide_type": "skip"
    },
    "tags": []
   },
   "outputs": [],
   "source": []
  },
  {
   "cell_type": "markdown",
   "id": "11cdac4e-79ed-4f15-a7a5-5bba12d27bc2",
   "metadata": {
    "slideshow": {
     "slide_type": "fragment"
    },
    "tags": []
   },
   "source": [
    "# Prerequisities\n",
    "\n",
    "* Basic knowledge of Python - [Online course](http://pythonic.eu/fjfi/)\n",
    "* Installed Python with computer vision packages [Anaconda distribution](https://www.anaconda.com/) or [Google Colab](https://colab.research.google.com/)\n",
    "\n",
    "* This presentation sources: https://github.com/mjirik/usvp\n"
   ]
  },
  {
   "cell_type": "markdown",
   "id": "37b88ad7-7c2e-4092-9286-6c4c8a1bb986",
   "metadata": {
    "slideshow": {
     "slide_type": "slide"
    },
    "tags": []
   },
   "source": [
    "![classification_dog.png](classification_dog.png)\n",
    "\n"
   ]
  },
  {
   "cell_type": "markdown",
   "id": "06076516-24f8-4fa8-b5f9-15c9dfd108d5",
   "metadata": {
    "slideshow": {
     "slide_type": "fragment"
    },
    "tags": []
   },
   "source": [
    "What is the presented task?\n",
    "\n",
    "* Classification\n",
    "* Segmentation\n",
    "* Tracking"
   ]
  },
  {
   "cell_type": "markdown",
   "id": "dacff4ea-aed1-4017-8811-29980f8686fc",
   "metadata": {
    "slideshow": {
     "slide_type": "slide"
    },
    "tags": []
   },
   "source": [
    "# Image Classification\n",
    "\n",
    "\n",
    "Image Classification (often referred to as Image Recognition) is the task of associating one (single-label classification) or more (multi-label classification) labels to a given image.  \n",
    "\n",
    "\n",
    "(definition by [Hmrishav Bandyopadhyay](https://www.v7labs.com/blog/image-classification-guide))\n",
    "\n",
    "\n",
    "\n"
   ]
  },
  {
   "cell_type": "markdown",
   "id": "9d6a1db0-f8a7-4ece-bac1-666cfbeae94c",
   "metadata": {
    "slideshow": {
     "slide_type": "fragment"
    },
    "tags": []
   },
   "source": [
    "* Single-label Classification\n",
    "    * Binar\n",
    "    * General\n",
    "* Multi-label Classification"
   ]
  },
  {
   "cell_type": "markdown",
   "id": "ec919b3d-d88f-483b-9c72-6a55cedcc6c6",
   "metadata": {
    "slideshow": {
     "slide_type": "notes"
    },
    "tags": []
   },
   "source": [
    "Při klasifikaci je cílem zařadit obraz do jedné nebo více kategorií - tříd. Třídou může být například auto, zvíře, strom."
   ]
  },
  {
   "cell_type": "markdown",
   "id": "45cf837b-9562-4119-a411-5b995d8f23a1",
   "metadata": {
    "slideshow": {
     "slide_type": "slide"
    },
    "tags": []
   },
   "source": [
    "## Binar classification\n",
    "\n",
    "Email **✉**\n",
    "\n",
    "* Spam\n",
    "* Not Spam"
   ]
  },
  {
   "cell_type": "markdown",
   "id": "4f6ddcac-c4b7-4af7-97c4-1c6509eb6785",
   "metadata": {
    "slideshow": {
     "slide_type": "slide"
    },
    "tags": []
   },
   "source": [
    "\n",
    "## Single-label Classification\n",
    "\n",
    "Sometimes called also Multi-class Single-label Classification\n",
    "\n",
    "![single-label-classification](single_label_classification_krizhevski2012.png)\n",
    "\n",
    "Single-label Image Segmentation [Krizhevski2012](https://dl.acm.org/doi/10.5555/2999134.2999257)"
   ]
  },
  {
   "cell_type": "markdown",
   "id": "effb1c8c-df08-4d1d-ac88-75721eb74bb5",
   "metadata": {
    "slideshow": {
     "slide_type": "slide"
    },
    "tags": []
   },
   "source": [
    "## Multi-label Classification\n",
    "\n",
    "![classification_dog_cat.png](classification_dog_cat.png)\n",
    "\n",
    "[Madjarov2012](https://doi.org/10.1016/j.patcog.2012.03.004)"
   ]
  },
  {
   "cell_type": "markdown",
   "id": "84025c30-8773-422f-b4cd-b5c7d768f964",
   "metadata": {
    "slideshow": {
     "slide_type": "slide"
    },
    "tags": []
   },
   "source": [
    "![Human action recognition](https://miro.medium.com/max/1280/1*0WzM-xyA6RudgWquXJdiqw.png)\n",
    "\n",
    "See \"Revisiting 3D ResNet for Video Recognition\""
   ]
  },
  {
   "cell_type": "markdown",
   "id": "81ef97d7-980c-45dc-8555-d75d65469ee8",
   "metadata": {
    "slideshow": {
     "slide_type": "slide"
    },
    "tags": []
   },
   "source": [
    "## Classification - Important algorithms - AlexNet\n",
    "\n",
    "Krizhevsky, Alex, Ilya Sutskever, and Geoffrey E. Hinton. [\"Imagenet classification with deep convolutional neural networks.\"](https://proceedings.neurips.cc/paper/2012/hash/c399862d3b9d6b76c8436e924a68c45b-Abstract.html)  Advances in neural information processing systems 25 (2012).([PDF](https://dl.acm.org/doi/pdf/10.1145/3065386))\n",
    "\n"
   ]
  },
  {
   "cell_type": "markdown",
   "id": "0dc813f0-33aa-4d4e-b669-ee22eaa62736",
   "metadata": {
    "slideshow": {
     "slide_type": "fragment"
    },
    "tags": []
   },
   "source": [
    "![alexnet_krizhevski2012](alexnet_krizhevski2012.png)"
   ]
  },
  {
   "cell_type": "markdown",
   "id": "19d7db91-1fb1-4ef5-ad4c-550f93054342",
   "metadata": {
    "slideshow": {
     "slide_type": "slide"
    },
    "tags": []
   },
   "source": [
    "## AlexNet\n",
    "![krizhevski2012](krizhevski2012.png)"
   ]
  },
  {
   "cell_type": "markdown",
   "id": "52db04b5-b46f-43a9-adb5-d3f544772b64",
   "metadata": {
    "slideshow": {
     "slide_type": "slide"
    },
    "tags": []
   },
   "source": [
    "## Classification - Example\n",
    "\n",
    "![VASC](classification_binar_filipescu2021.png)\n",
    "\n",
    "\n",
    "[Image Source: Filipescu2021](https://onlinelibrary.wiley.com/doi/full/10.1111/srt.13045)"
   ]
  },
  {
   "cell_type": "markdown",
   "id": "67505ed7-2c9b-4fcf-a79e-a06f91112ac9",
   "metadata": {
    "slideshow": {
     "slide_type": "notes"
    },
    "tags": []
   },
   "source": [
    "Vascular lesion—VASC - benign - nezhoubné"
   ]
  },
  {
   "cell_type": "markdown",
   "id": "239e0b23-1360-4dc7-aa05-6787d0aa5b15",
   "metadata": {
    "slideshow": {
     "slide_type": "fragment"
    },
    "tags": []
   },
   "source": [
    "How to evaluate the quality of predictor? Try it in python..."
   ]
  },
  {
   "cell_type": "code",
   "execution_count": 2,
   "id": "9685d093-08f0-4f98-a4f9-be5ab889c305",
   "metadata": {
    "slideshow": {
     "slide_type": "slide"
    },
    "tags": []
   },
   "outputs": [],
   "source": [
    "import skimage\n",
    "import skimage.io\n",
    "import sklearn\n",
    "import sklearn.metrics\n",
    "import matplotlib.pyplot as plt\n",
    "import seaborn as sn\n",
    "import pandas as pd\n",
    "import numpy as np"
   ]
  },
  {
   "cell_type": "code",
   "execution_count": 10,
   "id": "1bc87990-847a-4017-924e-9923a0a7d0e8",
   "metadata": {
    "slideshow": {
     "slide_type": "slide"
    },
    "tags": []
   },
   "outputs": [
    {
     "data": {
      "text/plain": [
       "<matplotlib.image.AxesImage at 0x27d94f19280>"
      ]
     },
     "execution_count": 10,
     "metadata": {},
     "output_type": "execute_result"
    },
    {
     "data": {
      "image/png": "[encoded data removed]",
      "text/plain": [
       "<Figure size 432x288 with 1 Axes>"
      ]
     },
     "metadata": {
      "needs_background": "light"
     },
     "output_type": "display_data"
    }
   ],
   "source": [
    "i = 7\n",
    "url = f\"https://github.com/mjirik/ZDO/raw/master/objekty/binar_classification/{i:02d}.jpg\"\n",
    "im = skimage.io.imread(url, as_gray=True)\n",
    "plt.imshow(im, cmap=\"gray\")\n",
    "\n",
    "# here is place for your code\n",
    "# my_prediction = ..."
   ]
  },
  {
   "cell_type": "code",
   "execution_count": 11,
   "id": "5c8856c5-cc18-40e2-8fdb-ba47a04b2ad7",
   "metadata": {
    "slideshow": {
     "slide_type": "slide"
    },
    "tags": []
   },
   "outputs": [
    {
     "data": {
      "image/png": "[encoded data removed]",
      "text/plain": [
       "<Figure size 720x360 with 8 Axes>"
      ]
     },
     "metadata": {
      "needs_background": "light"
     },
     "output_type": "display_data"
    }
   ],
   "source": [
    "fig, axs = plt.subplots(2,4, figsize=(10, 5))\n",
    "\n",
    "y_pred = []\n",
    "for i in range(8):\n",
    "    url = f\"https://github.com/mjirik/ZDO/raw/master/objekty/binar_classification/{i:02d}.jpg\"\n",
    "    im = skimage.io.imread(url, as_gray=True)\n",
    "    # plt.figure() # uncomment if you want to see all images\n",
    "    axs.flatten()[i].imshow(im, cmap=\"gray\", clim=[0,1])\n",
    "    \n",
    "    # here is place for your code\n",
    "    # my_prediction = ...\n",
    "    \n",
    "    my_prediction = 0\n",
    "    y_pred.append(my_prediction)\n",
    "plt.show()"
   ]
  },
  {
   "cell_type": "markdown",
   "id": "6242aac1-85c7-448c-87d4-a481f7d667e6",
   "metadata": {
    "slideshow": {
     "slide_type": "slide"
    },
    "tags": []
   },
   "source": [
    "# Ground Truth\n",
    "\n",
    "\"Ground truth\" may be seen as a conceptual term relative to the knowledge of the truth concerning a specific question. It is the ideal expected result. [Lemoigne2006](https://link.springer.com/book/10.1007/978-1-4020-8752-3)"
   ]
  },
  {
   "cell_type": "code",
   "execution_count": 30,
   "id": "219ce86f-98ae-460c-afdc-771c1290a274",
   "metadata": {},
   "outputs": [],
   "source": [
    "y_true = [0,0,0,1,1,0,1,1]  # ground truth - manual annotation\n",
    "y_pred = [0,1,0,1,0,0,1,1]  # machine prediction"
   ]
  },
  {
   "cell_type": "markdown",
   "id": "b484b796-ad47-4494-9d9e-668fd657509f",
   "metadata": {
    "slideshow": {
     "slide_type": "notes"
    },
    "tags": []
   },
   "source": [
    "Jak vyhodnotit kvalitu klasifikace? "
   ]
  },
  {
   "cell_type": "markdown",
   "id": "72e47f83-e6ed-4bce-a641-1c981d8a6e00",
   "metadata": {
    "slideshow": {
     "slide_type": "slide"
    },
    "tags": []
   },
   "source": [
    "## Evaluation of binary classifiers\n",
    "\n",
    "\n",
    "* Precision\n",
    "* Recall\n",
    "* Sensitivity\n",
    "* Specificity\n",
    "\n"
   ]
  },
  {
   "cell_type": "markdown",
   "id": "54c9a9f7-9ff2-4c21-9abc-02d83f318617",
   "metadata": {
    "slideshow": {
     "slide_type": "slide"
    },
    "tags": []
   },
   "source": [
    "## Confusion matrix"
   ]
  },
  {
   "cell_type": "markdown",
   "id": "ec4f92d8-04d1-4665-ab24-5be49d75c700",
   "metadata": {},
   "source": [
    "- | Predicted Negative      | Predicted Positive \n",
    "--|:---------:|:-----------:\n",
    "Actual Negative| True Negative      | False Positive\n",
    "Actual Positive| False Negative   | True Positive"
   ]
  },
  {
   "cell_type": "code",
   "execution_count": 24,
   "id": "aaad559b-b061-4ddd-b966-ba05a687aac5",
   "metadata": {
    "slideshow": {
     "slide_type": "slide"
    },
    "tags": []
   },
   "outputs": [
    {
     "data": {
      "text/plain": [
       "<AxesSubplot:>"
      ]
     },
     "execution_count": 24,
     "metadata": {},
     "output_type": "execute_result"
    },
    {
     "data": {
      "image/png": "[encoded data removed]",
      "text/plain": [
       "<Figure size 360x360 with 2 Axes>"
      ]
     },
     "metadata": {
      "needs_background": "light"
     },
     "output_type": "display_data"
    }
   ],
   "source": [
    "y_test = [0,0,0,1,1,0,1,1]\n",
    "y_pred = [0,1,0,1,1,0,1,1]\n",
    "\n",
    "conf_matrix = sklearn.metrics.confusion_matrix(y_test, y_pred)\n",
    "fig, ax = plt.subplots(figsize=(5, 5))\n",
    "# ax.matshow(conf_matrix, cmap=plt.cm.Oranges, alpha=0.3)\n",
    "sn.heatmap(conf_matrix, annot=True)"
   ]
  },
  {
   "cell_type": "code",
   "execution_count": null,
   "id": "36d938fe-9c06-4d98-89aa-5cedb9aea6c4",
   "metadata": {},
   "outputs": [],
   "source": []
  },
  {
   "cell_type": "markdown",
   "id": "78a05268-57a5-4a01-a491-9b8347434c86",
   "metadata": {
    "slideshow": {
     "slide_type": "slide"
    },
    "tags": []
   },
   "source": [
    "# Accuracy\n",
    "\n",
    "\n",
    "Accuracy is also used as a statistical measure of how well a binary classification test correctly identifies or excludes a condition. That is, the accuracy is the proportion of correct predictions (both true positives and true negatives) among the total number of cases examined. As such, it compares estimates of pre- and post-test probability. To make the context clear by the semantics, it is often referred to as the \"Rand accuracy\" or \"Rand index\". It is a parameter of the test. \n",
    "\n",
    "$$\n",
    "\\textrm{Accuracy} = \\frac{TP + TN}{TP + TN + FP + FN}\n",
    "$$\n",
    "\n",
    "Sources:\n",
    "[Metz1978](https://www.sciencedirect.com/science/article/abs/pii/S0001299878800142?via%3Dihub)\n",
    "and \n",
    "[Wiki: Accuracy and Precision](https://en.wikipedia.org/wiki/Accuracy_and_precision)"
   ]
  },
  {
   "cell_type": "markdown",
   "id": "1e5f044a-58c3-4297-9474-b45054600310",
   "metadata": {
    "slideshow": {
     "slide_type": "slide"
    },
    "tags": []
   },
   "source": [
    "$$\n",
    "\\textrm{Accuracy} = \\frac{TP + TN}{TP + TN + FP + FN}\n",
    "$$\n",
    "\n",
    "![accuracy](Accuracy.png)\n",
    "\n"
   ]
  },
  {
   "cell_type": "markdown",
   "id": "3bac118d-3e2e-4943-995f-96e049e1be04",
   "metadata": {
    "slideshow": {
     "slide_type": "slide"
    },
    "tags": []
   },
   "source": [
    "## Example - Accuracy\n",
    "\n",
    "Try to implement...\n",
    "\n",
    "First get the Ground Truth:"
   ]
  },
  {
   "cell_type": "code",
   "execution_count": 25,
   "id": "b4c67137-3dfa-40be-ab80-f01c597c8484",
   "metadata": {},
   "outputs": [
    {
     "data": {
      "text/html": [
       "<div>\n",
       "<style scoped>\n",
       "    .dataframe tbody tr th:only-of-type {\n",
       "        vertical-align: middle;\n",
       "    }\n",
       "\n",
       "    .dataframe tbody tr th {\n",
       "        vertical-align: top;\n",
       "    }\n",
       "\n",
       "    .dataframe thead th {\n",
       "        text-align: right;\n",
       "    }\n",
       "</style>\n",
       "<table border=\"1\" class=\"dataframe\">\n",
       "  <thead>\n",
       "    <tr style=\"text-align: right;\">\n",
       "      <th></th>\n",
       "      <th>filename</th>\n",
       "      <th>contain_object</th>\n",
       "    </tr>\n",
       "  </thead>\n",
       "  <tbody>\n",
       "    <tr>\n",
       "      <th>2</th>\n",
       "      <td>02.jpg</td>\n",
       "      <td>0</td>\n",
       "    </tr>\n",
       "    <tr>\n",
       "      <th>3</th>\n",
       "      <td>03.jpg</td>\n",
       "      <td>1</td>\n",
       "    </tr>\n",
       "    <tr>\n",
       "      <th>4</th>\n",
       "      <td>04.jpg</td>\n",
       "      <td>1</td>\n",
       "    </tr>\n",
       "  </tbody>\n",
       "</table>\n",
       "</div>"
      ],
      "text/plain": [
       "  filename  contain_object\n",
       "2   02.jpg               0\n",
       "3   03.jpg               1\n",
       "4   04.jpg               1"
      ]
     },
     "execution_count": 25,
     "metadata": {},
     "output_type": "execute_result"
    }
   ],
   "source": [
    "df = pd.read_csv(\"https://github.com/mjirik/ZDO/raw/master/objekty/binar_classification/annotation.csv\")\n",
    "df[2:5]"
   ]
  },
  {
   "cell_type": "code",
   "execution_count": 26,
   "id": "770074db-721c-4013-95b0-15cd55901369",
   "metadata": {},
   "outputs": [
    {
     "data": {
      "text/plain": [
       "array([0, 0, 0, 1, 1, 0, 1, 1], dtype=int64)"
      ]
     },
     "execution_count": 26,
     "metadata": {},
     "output_type": "execute_result"
    }
   ],
   "source": [
    "np.array(df[\"contain_object\"])"
   ]
  },
  {
   "cell_type": "markdown",
   "id": "63821892-1142-4bb1-bdd6-97805f3d7331",
   "metadata": {
    "slideshow": {
     "slide_type": "slide"
    },
    "tags": []
   },
   "source": [
    "## Precision, Recall=Sensitivity, Specificity\n",
    "\n",
    "![precision_recall](Precisionrecall_horizontal.png)\n",
    "\n"
   ]
  },
  {
   "cell_type": "markdown",
   "id": "03641618-2a48-4e42-a684-eaff6564f501",
   "metadata": {
    "slideshow": {
     "slide_type": "notes"
    },
    "tags": []
   },
   "source": [
    "\n",
    "\n",
    "\n",
    "Precision (also called positive predictive value) is the fraction of relevant instances among the retrieved instances, while recall (also known as sensitivity) is the fraction of relevant instances that were retrieved. Both precision and recall are therefore based on relevance.\n",
    "\n",
    "Recall, Sensitivity or True Positive Rate (TPR), is the proportion of people that tested positive and are positive (True Positive, TP) of all the people that actually are positive (Condition Positive, CP = TP + FN). It can be seen as the probability that the test is positive given that the patient is sick. With higher sensitivity, fewer actual cases of disease go undetected (or, in the case of the factory quality control, fewer faulty products go to the market).\n",
    "\n",
    "Specificity (SPC) or True Negative Rate (TNR) is the proportion of people that tested negative and are negative (True Negative, TN) of all the people that actually are negative (Condition Negative, CN = TN + FP). As with sensitivity, it can be looked at as the probability that the test result is negative given that the patient is not sick. With higher specificity, fewer healthy people are labeled as sick (or, in the factory case, fewer good products are discarded). \n",
    "\n",
    "[Source](https://en.wikipedia.org/wiki/Evaluation_of_binary_classifiers#Single_metrics)\n",
    "\n",
    "\n"
   ]
  },
  {
   "cell_type": "markdown",
   "id": "bb45637e-fb43-4bd5-8508-e1322d1b0edf",
   "metadata": {
    "slideshow": {
     "slide_type": "slide"
    },
    "tags": []
   },
   "source": [
    "# Česká terminologie\n",
    "\n",
    "České překlady pojmů se v praxi příliš nepoužívají. Nejblíže asi terminologie pro měření kvality přístrojové techniky ČSN ISO 5725-2.\n",
    "\n",
    "**Přesnost** (anglicky accuracy, francouzsky exactitude, německy Genauigkeit) je souhrnný pojem charakterizující míru odchylek měření nebo pokusů od referenční hodnoty (tj. hodnoty, která je pokládána obecným jazykem za „správnou“). Přesnost zahrnuje pravdivost a preciznost (dříve správnost a shodnost).\n",
    "\n",
    "**Pravdivost** (anglicky trueness, francouzsky justesse, německy Richtigkeit, podle starší verze ČSN ISO 5725-2:1997 správnost) znamená, že průměr velkého počtu měření nebo zkoušek se blíží skutečné hodnotě měřené veličiny (pravou nebo přijatou referenční hodnotou); jedná se o systematickou chybu, o míru statistického zkreslení.\n",
    "\n",
    "**Preciznost** (anglicky precision, francouzsky fidélité, německy Präzision, podle ČSN starší verze ISO 5725-2:1997 též shodnost) se týká těsnosti shody mezi výsledky měření; jedná se o míru rozptylu.\n",
    "\n",
    "Zdroje:\n",
    "\n",
    "[ČSN ISO 5725-2: Přesnost (pravdivost a preciznost) metod a výsledků měření](https://eshop.normservis.cz/nahledy/view/csn/01/505452/505452_nahled.pdf)\n",
    "\n",
    "[Wiki: Přesnost a preciznost](https://cs.wikipedia.org/wiki/P%C5%99esnost_a_preciznost)"
   ]
  },
  {
   "cell_type": "markdown",
   "id": "4a99219a-9953-4f89-a0df-99e03a6ce84f",
   "metadata": {
    "slideshow": {
     "slide_type": "slide"
    },
    "tags": []
   },
   "source": [
    "## F1 Score\n",
    "\n",
    "\n",
    "$$F1 Score = 2 \\cdot \\frac{Precision \\cdot Recall}{Precision + Recall}$$\n",
    "\n",
    "\n"
   ]
  },
  {
   "cell_type": "markdown",
   "id": "1feca7e1-02cb-4fc6-b1f8-467c118554dc",
   "metadata": {
    "slideshow": {
     "slide_type": "slide"
    },
    "tags": []
   },
   "source": [
    "## Metrics Implementation\n",
    "\n",
    "[Scikit-learn metrics docs](https://scikit-learn.org/stable/modules/model_evaluation.html)"
   ]
  },
  {
   "cell_type": "code",
   "execution_count": 47,
   "id": "3f7dd985-34b0-4b8f-b3c9-354ea029c02a",
   "metadata": {},
   "outputs": [
    {
     "name": "stdout",
     "output_type": "stream",
     "text": [
      "Accuracy =0.875\n",
      "Precision=0.8\n",
      "Recall   =1.0\n",
      "F1       =0.888888888888889\n"
     ]
    }
   ],
   "source": [
    "y_true = [0,0,0,1,1,0,1,1]\n",
    "y_pred = [0,1,0,1,1,0,1,1]\n",
    "\n",
    "print(f\"Accuracy ={sklearn.metrics.accuracy_score(y_true, y_pred)}\")\n",
    "print(f\"Precision={sklearn.metrics.precision_score(y_true, y_pred)}\")\n",
    "print(f\"Recall   ={sklearn.metrics.recall_score(y_true, y_pred)}\")\n",
    "print(f\"F1       ={sklearn.metrics.f1_score(y_true, y_pred)}\")"
   ]
  },
  {
   "cell_type": "markdown",
   "id": "9c244ac0-2ce6-4f88-96ed-1cb29d529ab9",
   "metadata": {
    "slideshow": {
     "slide_type": "slide"
    },
    "tags": []
   },
   "source": [
    "# ROC curve\n",
    "\n",
    "ROC křivka (z anglického Receiver Operating Characteristic, operační charakteristika přijímače) je graf, který popisuje kvalitu binárního klasifikátoru v závislosti na nastavení jeho klasifikačního prahu.\n",
    "\n",
    "<img src=https://scikit-learn.org/stable/_images/sphx_glr_plot_roc_001.png width=\"300\"/>\n",
    "\n",
    "Source: [scikit-learn docs](https://scikit-learn.org/stable/auto_examples/model_selection/plot_roc.html#sphx-glr-auto-examples-model-selection-plot-roc-py)\n",
    "\n",
    "<!-- ![ROC](https://upload.wikimedia.org/wikipedia/commons/6/6b/Roccurves.png) -->\n",
    "\n",
    "Čím tedy je ROC křivka zakřivenější ve směru vzhůru, tím víc klasifikační proměnná obsahuje informace o zařazení objektů a tím je její použití pro danou klasifikační úlohu vhodnější. Jako souhrnné hodnocení klasifikační schopnosti proměnné se proto často používá plocha pod ROC křivkou.\n",
    "\n"
   ]
  },
  {
   "cell_type": "markdown",
   "id": "c8d7e2cc-521a-46e1-a7d0-0d54e3e72b12",
   "metadata": {
    "slideshow": {
     "slide_type": "slide"
    },
    "tags": []
   },
   "source": [
    "Binárním klasifikátorem se rozumí zařízení (nebo člověk) odhadující zařazení nějakých objektů nebo případů do dvou skupin, obecně označovaných jako pozitivní a negativní. Přitom se předpokládá, že objekty jsou charakterizovány nějakou vlastností (proměnnou) vyjádřenou číslem a že klasifikátor zařazuje do pozitivní skupiny právě ty, u kterých hodnota této proměnné přesáhne stanovený klasifikační práh (což je nějaké pevně dané číslo). Příkladem binárního klasifikátoru může být bankéř, který na základě kreditního skóre nějaké osoby rozhoduje, zda jí lze (pozitivní) nebo nelze (negativní) úspěšně poskytnout úvěr. Klasifikátor na základě takového postupu může buď objekt zařadit správně, anebo se může dopustit chyby; navíc záleží i na tom, zda případ je, nebo není ve skutečnosti pozitivní. Lze tak rozlišit čtyři případy: 1. skutečný pozitivní (true positive, jejich počet se označuje TP; odpovídá situaci, kdy bankéř poskytne úvěr a klient ho řádně splatí), 2. skutečný negativní (true negative, TN; bankéř odmítne klienta, který by úvěr nesplatil), 3. falešný pozitivní čili falešný poplach (false positive, FP; poskytnutí úvěru klientovi, který peníze bance nevrátí) a 4. falešný negativní (false negative, FN; klient nedostane úvěr, i když by ho řádně splácel).\n",
    "\n",
    "\n",
    "[Wikipedia: ROC křivka](https://cs.wikipedia.org/wiki/ROC_k%C5%99ivka)"
   ]
  },
  {
   "cell_type": "markdown",
   "id": "e6dd1b36-edfc-45d2-aca8-2a06c169f2e4",
   "metadata": {
    "slideshow": {
     "slide_type": "slide"
    },
    "tags": []
   },
   "source": [
    "\n",
    "## References\n",
    "\n",
    "[Wikipedia: ROC křivka](https://cs.wikipedia.org/wiki/ROC_k%C5%99ivka)\n",
    "\n",
    "[Wikiskripta: ROC křivka](https://www.wikiskripta.eu/w/ROC_k%C5%99ivka)\n",
    "\n",
    "[Fawcett, Tom (2006). \"An Introduction to ROC Analysis\" (PDF). Pattern Recognition Letters. 27 (8): 861–874. doi:10.1016/j.patrec.2005.10.010.](http://people.inf.elte.hu/kiss/11dwhdm/roc.pdf)"
   ]
  },
  {
   "cell_type": "markdown",
   "id": "a24c0047-da8e-46d3-b652-26f578caab15",
   "metadata": {
    "slideshow": {
     "slide_type": "slide"
    },
    "tags": []
   },
   "source": [
    "## Evaluation of multi-class classification"
   ]
  },
  {
   "cell_type": "code",
   "execution_count": 5,
   "id": "6bc14d53-8234-446c-9066-a84b0795baac",
   "metadata": {},
   "outputs": [
    {
     "data": {
      "text/plain": [
       "<AxesSubplot:>"
      ]
     },
     "execution_count": 5,
     "metadata": {},
     "output_type": "execute_result"
    },
    {
     "data": {
      "image/png": "[encoded data removed]",
      "text/plain": [
       "<Figure size 360x360 with 2 Axes>"
      ]
     },
     "metadata": {
      "needs_background": "light"
     },
     "output_type": "display_data"
    }
   ],
   "source": [
    "y_true = [0,0,0,1,1,0,2,0,0,0,1,1,2,2,2]\n",
    "y_pred = [0,1,0,1,1,0,1,0,1,0,1,1,2,0,2]\n",
    "\n",
    "conf_matrix = sklearn.metrics.confusion_matrix(y_true, y_pred)\n",
    "fig, ax = plt.subplots(figsize=(5, 5))\n",
    "sn.heatmap(conf_matrix, annot=True)\n"
   ]
  },
  {
   "cell_type": "code",
   "execution_count": 6,
   "id": "616ba23f-2410-4855-bd54-134e846c049f",
   "metadata": {
    "slideshow": {
     "slide_type": "slide"
    },
    "tags": []
   },
   "outputs": [
    {
     "name": "stdout",
     "output_type": "stream",
     "text": [
      "Accuracy =0.7333333333333333\n",
      "Precision=[0.83333333 0.57142857 1.        ]\n",
      "Recall   =[0.71428571 1.         0.5       ]\n",
      "F1       =[0.76923077 0.72727273 0.66666667]\n"
     ]
    }
   ],
   "source": [
    "y_true = [0,0,0,1,1,0,2,0,0,0,1,1,2,2,2]\n",
    "y_pred = [0,1,0,1,1,0,1,0,1,0,1,1,2,0,2]\n",
    "\n",
    "print(f\"Accuracy ={sklearn.metrics.accuracy_score(y_true, y_pred)}\")\n",
    "print(f\"Precision={sklearn.metrics.precision_score(y_true, y_pred, average=None)}\")\n",
    "print(f\"Recall   ={sklearn.metrics.recall_score(y_true, y_pred, average=None)}\")\n",
    "print(f\"F1       ={sklearn.metrics.f1_score(y_true, y_pred, average=None)}\")"
   ]
  },
  {
   "cell_type": "markdown",
   "id": "02a611eb-6279-434e-8987-0fe0daa1c47a",
   "metadata": {
    "slideshow": {
     "slide_type": "slide"
    },
    "tags": []
   },
   "source": [
    "## References\n",
    "* [Revisiting 3D ResNet for Video Recognition](https://paperswithcode.com/paper/revisiting-3d-resnets-for-video-recognition)\n"
   ]
  },
  {
   "cell_type": "markdown",
   "id": "36529b29-6698-49e3-9825-f0c0cdfb8e2f",
   "metadata": {},
   "source": [
    "# Classification \n",
    "\n",
    "\n",
    "Input:\n",
    "* Image\n",
    "\n",
    "Output:\n",
    "\n",
    "* Single-label Classification - One label per image selected from predefined group\n",
    "* Multi-label Classification - Multiple labels selected from predefined group \n",
    "\n",
    "\n",
    "Evaluation:\n",
    "\n",
    "* Accuracy\n",
    "* Precision\n",
    "* Recall (Sensitivity)\n",
    "* F1\n",
    "* ROC"
   ]
  },
  {
   "cell_type": "markdown",
   "id": "41939340-c39c-4127-ab6f-8ab0d1142185",
   "metadata": {
    "slideshow": {
     "slide_type": "slide"
    },
    "tags": []
   },
   "source": [
    "# Regression\n",
    "\n",
    "Regression is a process of finding the correlations between dependent and independent variables. It helps in predicting the continuous variables such as prediction of Market Trends, prediction of House prices, etc.\n",
    "\n",
    "The task of the Regression algorithm is to find the mapping function to map the input variable(x) to the continuous output variable(y).\n",
    "\n",
    "[Source](https://www.javatpoint.com/regression-vs-classification-in-machine-learning)"
   ]
  },
  {
   "cell_type": "markdown",
   "id": "77115a9a-eb01-4e6e-a28f-da0375315f6d",
   "metadata": {
    "slideshow": {
     "slide_type": "fragment"
    },
    "tags": []
   },
   "source": [
    "![regression_winter](regression_winter.png)"
   ]
  },
  {
   "cell_type": "markdown",
   "id": "3bb23675-85fe-4af9-90aa-1a9c4d9e0217",
   "metadata": {
    "slideshow": {
     "slide_type": "notes"
    },
    "tags": []
   },
   "source": [
    "Regrese je proces hledání korelací mezi závislými a nezávislými proměnnými. Pomáhá při předpovídání spojitých proměnných, jako je predikce tržních trendů, predikce cen domů atd.\n",
    "\n",
    "Úkolem regresního algoritmu je najít mapovací funkci pro mapování vstupní proměnné (x) na spojitou výstupní proměnnou (y)."
   ]
  },
  {
   "cell_type": "markdown",
   "id": "1d9d2ed3-870d-4df8-87cc-cd291e8bf1ef",
   "metadata": {
    "slideshow": {
     "slide_type": "slide"
    },
    "tags": []
   },
   "source": [
    "\n",
    "## Regression vs Classification\n",
    "\n",
    "![regression vs classification](https://static.javatpoint.com/tutorial/machine-learning/images/regression-vs-classification-in-machine-learning.png)\n",
    "\n",
    "Hlavní rozdíl mezi regresními a klasifikačními algoritmy je ten, že regresní algoritmy se používají k predikci spojitých hodnot, jako je cena, plat, věk atd., a klasifikační algoritmy se používají k predikci/klasifikaci diskrétních hodnot, jako je muž nebo žena, pravda nebo nepravda, Spam or Not Spam atd.\n",
    "\n",
    "\n",
    "\n",
    "Source: [https://www.javatpoint.com/](https://www.javatpoint.com/regression-vs-classification-in-machine-learning)"
   ]
  },
  {
   "cell_type": "markdown",
   "id": "0579d621-82be-4bf4-9292-a587ba577a83",
   "metadata": {
    "slideshow": {
     "slide_type": "slide"
    },
    "tags": []
   },
   "source": [
    "<table>\n",
    "<tbody><tr>\n",
    "<th>Regresní algoritmus</th>\n",
    "<th>Algoritmus klasifikace</th>\n",
    "</tr>\n",
    "<tr>\n",
    "<td>Při regresi musí nabývat výstupní proměnná spojitých hodnot.</td>\n",
    "<td>Při klasifikaci musí být výstupní proměnná diskrétní hodnota.</td>\n",
    "</tr>\n",
    "<tr>\n",
    "<td>Úkolem regresního algoritmu je mapovat vstupní hodnotu (x) na spojitou výstupní proměnnou (y).</td>\n",
    "<td>Úkolem klasifikačního algoritmu je mapovat vstupní hodnotu (x) na diskrétní výstupní proměnnou (y).</td>\n",
    "</tr>\n",
    "<tr>\n",
    "<td>Regresní algoritmy se používají se spojitými daty.</td>\n",
    "<td>Klasifikační algoritmy se používají s diskrétními daty.</td>\n",
    "</tr>\n",
    "<tr>\n",
    "<td>Při regresi se snažíme najít nejvhodnější linii, která dokáže přesněji předpovědět výstup.</td>\n",
    "<td>Při klasifikaci se snažíme najít rozhodovací hranici, která může rozdělit datovou sadu do různých tříd.</td>\n",
    "</tr>\n",
    "<tr>\n",
    "<td>Regresní algoritmy lze použít k řešení regresních problémů, jako je předpověď počasí, předpověď ceny domu atd.</td>\n",
    "<td>Klasifikační algoritmy lze použít k řešení problémů klasifikace, jako je identifikace spamových e-mailů, rozpoznávání řeči, identifikace rakovinných buněk atd.</td>\n",
    "</tr>\n",
    "<tr>\n",
    "<td>Regresní algoritmus lze dále rozdělit na lineární a nelineární regresi.</td>\n",
    "<td>Algoritmy klasifikace lze rozdělit na binární klasifikátor a klasifikátor s více třídami.</td>\n",
    "</tr>\n",
    "</tbody></table>\n",
    "\n",
    "Source: [https://www.javatpoint.com/](https://www.javatpoint.com/regression-vs-classification-in-machine-learning)"
   ]
  },
  {
   "cell_type": "markdown",
   "id": "158d676c-3709-4a1c-8f2a-38eda68934e9",
   "metadata": {
    "slideshow": {
     "slide_type": "notes"
    },
    "tags": []
   },
   "source": [
    "\n",
    "\n",
    "<table>\n",
    "<tbody><tr>\n",
    "<th>Regression Algorithm</th>\n",
    "<th>Classification Algorithm</th>\n",
    "</tr>\n",
    "<tr>\n",
    "<td>In Regression, the output variable must be of continuous nature or real value.</td>\n",
    "<td>In Classification, the output variable must be a discrete value.</td>\n",
    "</tr>\n",
    "<tr>\n",
    "<td>The task of the regression algorithm is to map the input value (x) with the continuous output variable(y).</td>\n",
    "<td>The task of the classification algorithm is to map the input value(x) with the discrete output variable(y).</td>\n",
    "</tr>\n",
    "<tr>\n",
    "<td>Regression Algorithms are used with continuous data.</td>\n",
    "<td>Classification Algorithms are used with discrete data.</td>\n",
    "</tr>\n",
    "<tr>\n",
    "<td>In Regression, we try to find the best fit line, which can predict the output more accurately.</td>\n",
    "<td>In Classification, we try to find the decision boundary, which can divide the dataset into different classes.</td>\n",
    "</tr>\n",
    "<tr>\n",
    "<td>Regression algorithms can be used to solve the regression problems such as Weather Prediction, House price prediction, etc.</td>\n",
    "<td>Classification Algorithms can be used to solve classification problems such as Identification of spam emails, Speech Recognition, Identification of cancer cells, etc.</td>\n",
    "</tr>\n",
    "<tr>\n",
    "<td>The regression Algorithm can be further divided into Linear and Non-linear Regression.</td>\n",
    "<td>The Classification algorithms can be divided into Binary Classifier and Multi-class Classifier.</td>\n",
    "</tr>\n",
    "</tbody></table>\n",
    "\n",
    "Source: [https://www.javatpoint.com/](https://www.javatpoint.com/regression-vs-classification-in-machine-learning)"
   ]
  },
  {
   "cell_type": "markdown",
   "id": "87b648c9-04d4-49dc-9360-ee3d1bcef86a",
   "metadata": {
    "slideshow": {
     "slide_type": "slide"
    },
    "tags": []
   },
   "source": [
    "## Regression evaluation\n",
    "\n",
    "### Mean Square Error\n",
    "$$\n",
    "\\text{MSE}(y, \\hat{y}) = \\frac{1}{n_\\text{samples}} \\sum_{i=0}^{n_\\text{samples} - 1} (y_i - \\hat{y}_i)^2.\n",
    "$$"
   ]
  },
  {
   "cell_type": "markdown",
   "id": "4b19b168-8ab2-47ca-aeef-7eec4afc8074",
   "metadata": {
    "slideshow": {
     "slide_type": "fragment"
    },
    "tags": []
   },
   "source": [
    "### Mean Absolute Error\n",
    "\n",
    "\n",
    "$$\n",
    "\\text{MAE}(y, \\hat{y}) = \\frac{1}{n_{\\text{samples}}} \\sum_{i=0}^{n_{\\text{samples}}-1} \\left| y_i - \\hat{y}_i \\right|.\n",
    "$$"
   ]
  },
  {
   "cell_type": "markdown",
   "id": "574265f2-7a3f-4700-8cc9-c80d681c1a6c",
   "metadata": {
    "slideshow": {
     "slide_type": "fragment"
    },
    "tags": []
   },
   "source": [
    "\n",
    "### Mean Absolute Error\n",
    "\n",
    "$$\n",
    "\\text{Max Error}(y, \\hat{y}) = max(| y_i - \\hat{y}_i |)\n",
    "$$\n"
   ]
  },
  {
   "cell_type": "code",
   "execution_count": 56,
   "id": "3383ae38-5a76-4305-a745-53bc9f169294",
   "metadata": {
    "slideshow": {
     "slide_type": "slide"
    },
    "tags": []
   },
   "outputs": [
    {
     "name": "stdout",
     "output_type": "stream",
     "text": [
      "MSE =1.7142857142857142\n",
      "MAE =0.8571428571428571\n",
      "MaxE=3\n"
     ]
    }
   ],
   "source": [
    "y_true = [2,3,1,1,3,1,5]\n",
    "y_pred = [2,3,2,1,2,2,2]\n",
    "\n",
    "print(f\"MSE ={sklearn.metrics.mean_squared_error(y_true, y_pred)}\")\n",
    "print(f\"MAE ={sklearn.metrics.mean_absolute_error(y_true, y_pred)}\")\n",
    "print(f\"MaxE={sklearn.metrics.max_error(y_true, y_pred)}\")"
   ]
  },
  {
   "cell_type": "markdown",
   "id": "cc6cd916-4d62-4609-8990-6096ca06f353",
   "metadata": {
    "slideshow": {
     "slide_type": "slide"
    },
    "tags": []
   },
   "source": [
    "## What if...\n",
    "\n",
    "### Is it possible to estimate temperature with classification?\n"
   ]
  },
  {
   "cell_type": "markdown",
   "id": "945f40f2-59f1-4c8e-b760-f239c55a52b9",
   "metadata": {
    "slideshow": {
     "slide_type": "slide"
    },
    "tags": []
   },
   "source": [
    "# Regression - conclusion\n",
    "\n",
    "Input:\n",
    "  * Image\n",
    "  \n",
    "Output:\n",
    "  * Continuous (float) number or vector\n",
    "  \n",
    "  \n",
    "Metrics:\n",
    "  * Mean Square Error\n",
    "  * Mean Absolute Error\n",
    "  * Max Error\n",
    "\n"
   ]
  },
  {
   "cell_type": "markdown",
   "id": "b9353193-a850-4b69-873f-3c00f9fe8ec8",
   "metadata": {
    "slideshow": {
     "slide_type": "slide"
    },
    "tags": []
   },
   "source": [
    "# Filtration\n",
    "\n",
    "In signal processing, a filter is a device or process that removes some unwanted components or features from a signal. \n",
    "\n",
    "Filtering is a class of signal processing, the defining feature of filters being the complete or partial suppression of some aspect of the signal. Most often, this means removing some frequencies or frequency bands. However, filters do not exclusively act in the frequency domain; especially in the field of image processing many other targets for filtering exist."
   ]
  },
  {
   "cell_type": "markdown",
   "id": "09b095a6-094f-4df8-80fa-def356dba60d",
   "metadata": {
    "slideshow": {
     "slide_type": "notes"
    },
    "tags": []
   },
   "source": [
    "Nejčastější použití je redukce šumu."
   ]
  },
  {
   "cell_type": "markdown",
   "id": "4a547445-cf64-4058-a28e-482e849b6ede",
   "metadata": {
    "slideshow": {
     "slide_type": "slide"
    },
    "tags": []
   },
   "source": [
    "![filtration](https://www.researchgate.net/profile/David-Zhang-65/publication/271427056/figure/fig5/AS:655180534136833@1533218620169/Noise-reduction-achieved-by-low-SNR-MASI-processing-The-raw-image-with-low-SNR-is-shown.png)\n",
    "\n",
    "Noise reduction\n",
    "\n",
    "[T. Vogelsong, J. Tower, T. Senko, P. Levine, J. Janesick, J. Zhu, D. Zhang, G. van der Wal, and M. Piacentino \"Low-light NV-CMOS image sensors for day/night imaging\", Proc. SPIE 8713, Airborne Intelligence, Surveillance, Reconnaissance (ISR) Systems and Applications X, 87130F (31 May 2013); https://doi.org/10.1117/12.2016396](http://dx.doi.org/10.1117/12.2016396)"
   ]
  },
  {
   "cell_type": "markdown",
   "id": "6b66ee1b-fb2b-4fad-92f3-c86a12531a3e",
   "metadata": {
    "slideshow": {
     "slide_type": "slide"
    },
    "tags": []
   },
   "source": [
    "## Target dependent\n",
    "\n",
    "<div>\n",
    "<img src=\"https://upload.wikimedia.org/wikipedia/commons/thumb/4/49/Oxford_Street_December_2006.jpeg/1920px-Oxford_Street_December_2006.jpeg\" width=\"500\"/>\n",
    "</div>"
   ]
  },
  {
   "cell_type": "markdown",
   "id": "d3dba47e-4431-40e4-923c-39ffeed6d533",
   "metadata": {
    "slideshow": {
     "slide_type": "notes"
    },
    "tags": []
   },
   "source": [
    "What is my goal?\n",
    "* People counting?\n",
    "* Building shape recontruction\n",
    "* Car tracking?"
   ]
  },
  {
   "cell_type": "markdown",
   "id": "725bd2f6-4217-4445-9078-2fceff91fda1",
   "metadata": {
    "slideshow": {
     "slide_type": "slide"
    },
    "tags": []
   },
   "source": [
    "## Filtration - Conclusion\n",
    "\n",
    "Input:\n",
    "* Image\n",
    "\n",
    "Output:\n",
    "* Image with supressed unwanted components of the image and emhasized target components of the image"
   ]
  },
  {
   "cell_type": "markdown",
   "id": "05f87275-0ab4-40a9-ae1d-b8f2eec53559",
   "metadata": {
    "slideshow": {
     "slide_type": "slide"
    },
    "tags": []
   },
   "source": [
    "# Localization\n",
    "\n",
    "Single object localization\n",
    "\n",
    "![single-object-localization](https://miro.medium.com/max/608/1*uI4AaqoDew9p9YRsVFDZNg.png)\n",
    "\n",
    "Image source: [Object Localization using Keras by Roy Ganz](https://medium.com/analytics-vidhya/object-localization-using-keras-d78d6810d0be)\n",
    "\n"
   ]
  },
  {
   "cell_type": "markdown",
   "id": "5922ff4d-5b82-45ed-8881-725df564bc1a",
   "metadata": {
    "slideshow": {
     "slide_type": "fragment"
    },
    "tags": []
   },
   "source": [
    "Input:\n",
    "* Image\n",
    "\n",
    "Output:\n",
    "* Bounding box of single object"
   ]
  },
  {
   "cell_type": "markdown",
   "id": "87721516-e711-4452-a6a1-1c6168afe3a6",
   "metadata": {
    "slideshow": {
     "slide_type": "slide"
    },
    "tags": []
   },
   "source": [
    "# Detection"
   ]
  },
  {
   "cell_type": "markdown",
   "id": "bf5fbdf8-3c07-4738-96d1-c044bcfcc088",
   "metadata": {},
   "source": [
    "<!-- ![detection]() -->\n",
    "<div>\n",
    "<img src=\"https://cogneethi.com/assets/images/evodn/intro.jpg\" width=\"600\"/>\n",
    "</div>\n",
    "\n",
    "Image source: [Evolution of object detection networks](https://cogneethi.com/evodn/object_detection_intro/)"
   ]
  },
  {
   "cell_type": "markdown",
   "id": "855e03fe-dfca-43cb-b47a-918a70b35c77",
   "metadata": {
    "slideshow": {
     "slide_type": "slide"
    },
    "tags": []
   },
   "source": [
    "## Detection - Evaluation\n",
    "\n",
    "![Intersection over Union](https://upload.wikimedia.org/wikipedia/commons/2/2d/Intersection_over_Union_-_object_detection_bounding_boxes.jpg)\n",
    "\n",
    "\n"
   ]
  },
  {
   "cell_type": "markdown",
   "id": "cb11d654-8da9-4cf6-8332-039234b06d3a",
   "metadata": {
    "slideshow": {
     "slide_type": "slide"
    },
    "tags": []
   },
   "source": [
    "\n",
    "### Intersection over Union (Jaccard index)\n",
    "\n",
    "$$\n",
    "J(A,B) = {{|A \\cap B|}\\over{|A \\cup B|}} = {{|A \\cap B|}\\over{|A| + |B| - |A \\cap B|}}\n",
    "$$"
   ]
  },
  {
   "cell_type": "markdown",
   "id": "c4443d0e-3c9a-4951-96a1-1bd1c7231e58",
   "metadata": {
    "slideshow": {
     "slide_type": "fragment"
    },
    "tags": []
   },
   "source": [
    "<!-- ![IoU equation](https://upload.wikimedia.org/wikipedia/commons/c/c7/Intersection_over_Union_-_visual_equation.png) -->\n",
    "<img src=\"https://upload.wikimedia.org/wikipedia/commons/c/c7/Intersection_over_Union_-_visual_equation.png\" width=\"400\"/>"
   ]
  },
  {
   "cell_type": "markdown",
   "id": "ab727303-d046-41a7-8205-c2b9abdc671f",
   "metadata": {
    "slideshow": {
     "slide_type": "slide"
    },
    "tags": []
   },
   "source": [
    "### Dice coefficient\n",
    "\n",
    "$$\n",
    "DICE = \\frac{2\\left|{S_{g}^{1}} \\cap {S_{t}^{1}}\\right|}{\\left|{S_{g}^{1}}\\right| + \\left|{S_{t}^{1}}\\right|} = \\frac{2 TP}{2 TP + FP + FN}\n",
    "$$\n",
    "\n",
    "IoU (Jaccard index) is always larger than DICE except at the extrema {0,1} where they are equal. Furthermore the two metrics are related according to\n",
    "\n",
    "$$\n",
    "IoU=\\frac{\\left|{S_{g}^{1}} \\cap {S_{t}^{1}}\\right|}{\\left|{S_{g}^{1}} \\cup {S_{t}^{1}}\\right|}=\\frac{2\\left|{S_{g}^{1}} \\cap {S_{t}^{1}}\\right|}{2\\left(\\left|{S_{g}^{1}}\\right|+\\left|{S_{t}^{1}}\\right|- \\left|{S_{g}^{1}} \\cap {S_{t}^{1}}\\right|\\right)} =\\frac{DICE}{2-DICE}\n",
    "$$\n"
   ]
  },
  {
   "cell_type": "markdown",
   "id": "f118fe0e-48e3-41a7-8617-d8214622a3cc",
   "metadata": {
    "slideshow": {
     "slide_type": "slide"
    },
    "tags": []
   },
   "source": [
    "### References\n",
    "\n",
    "* [ Jaccard, Paul (February 1912). \"THE DISTRIBUTION OF THE FLORA IN THE ALPINE ZONE.1\". New Phytologist. 11 (2): 37–50. doi:10.1111/j.1469-8137.1912.tb05611.x. ISSN 0028-646X.](https://doi.org/10.1111%2Fj.1469-8137.1912.tb05611.x)\n",
    "* [Wikipedia: Jaccard index](https://en.wikipedia.org/wiki/Jaccard_index)\n",
    "* [sklearn doc](https://scikit-learn.org/stable/modules/generated/sklearn.metrics.jaccard_score.html#sklearn.metrics.jaccard_score)\n",
    "* [Dice LR. Measures of the amount of ecologic association between species. Ecology. 1945; 26(3):297–302.](https://doi.org/10.2307%2F1932409)\n",
    "* [Taha, A.A., Hanbury, A. Metrics for evaluating 3D medical image segmentation: analysis, selection, and tool. BMC Med Imaging 15, 29 (2015). https://doi.org/10.1186/s12880-015-0068-x](https://doi.org/10.1186/s12880-015-0068-x)"
   ]
  },
  {
   "cell_type": "markdown",
   "id": "617f9493-3797-493f-945e-4d844fbcc893",
   "metadata": {
    "slideshow": {
     "slide_type": "slide"
    },
    "tags": []
   },
   "source": [
    "## Detection - Conclusion\n",
    "\n",
    "Input:\n",
    "* Image\n",
    "\n"
   ]
  },
  {
   "cell_type": "markdown",
   "id": "e7110dbb-d20c-4978-84ae-d120a09daec5",
   "metadata": {
    "slideshow": {
     "slide_type": "fragment"
    },
    "tags": []
   },
   "source": [
    "\n",
    "Output:\n",
    "* Bounding box and class label for each object\n",
    "\n",
    "Metrics:\n",
    "* Intersection over Union (Jaccard index)\n",
    "* Dice coefficient"
   ]
  },
  {
   "cell_type": "markdown",
   "id": "7309959c-7cdc-4dd2-baac-4a39fcc7e2c6",
   "metadata": {
    "slideshow": {
     "slide_type": "slide"
    },
    "tags": []
   },
   "source": [
    "# Segmentation\n",
    "\n",
    "VSTUP: \n",
    "* INTENZITNÍ OBRAZ\n",
    "\n",
    "VÝSTUP: \n",
    "* OBRAZ ROZČLENĚNÝ NA ČÁSTI, KTERÉ MAJÍ SOUVISLOST S OBJEKTY REÁLNÉHO SVÉTA\n",
    "\n",
    "Kompletní segmentace\n",
    "* vytvořené oblasti jednoznačně korespondují s objekty ve vstupním obraze\n",
    "* obecně nezbytná spolupráce s vyšší úrovní zpracování, využití znalostí o řešeném problému\n",
    "* v případě, kdy je obraz tvořen kontrastními objekty na pozadí konstantního jasu – dobré výsledky\n",
    "kompletní segmentace i na nižší úrovni zpracování\n",
    "* Příklad: text, krevní buňky, počítání šroubků\n",
    "Částečná segmentace\n",
    "* vytvořené oblasti jsou homogenní vzhledem k určitým zvoleným vlastnostem (jas, barva, textura,\n",
    "apod.)\n",
    "* oblasti se obecně mohou překrývat\n",
    "* je třeba aplikovat další postupy na vyšší úrovni zpracování\n",
    "* Příklad: scéna s polem a lesem při pohledu z okna – po segmentaci neodpovídá objektu jedna oblast\n",
    "Pro segmentaci se využívá znalost o řešeném problému\n",
    "čím více, tím lépe"
   ]
  },
  {
   "cell_type": "code",
   "execution_count": 15,
   "id": "debeef98-071d-4a66-b3d1-c6f41c76dd90",
   "metadata": {
    "slideshow": {
     "slide_type": "skip"
    },
    "tags": []
   },
   "outputs": [],
   "source": [
    "from IPython.display import YouTubeVideo\n",
    "from datetime import timedelta"
   ]
  },
  {
   "cell_type": "code",
   "execution_count": 16,
   "id": "bf12c182-3029-4f2a-b46d-294bd00bbc11",
   "metadata": {
    "slideshow": {
     "slide_type": "slide"
    },
    "tags": []
   },
   "outputs": [
    {
     "data": {
      "image/jpeg": "[encoded data removed]",
      "text/html": [
       "\n",
       "        <iframe\n",
       "            width=\"400\"\n",
       "            height=\"300\"\n",
       "            src=\"https://www.youtube.com/embed/_bp5LTQ9D0M?start=33\"\n",
       "            frameborder=\"0\"\n",
       "            allowfullscreen\n",
       "            \n",
       "        ></iframe>\n",
       "        "
      ],
      "text/plain": [
       "<IPython.lib.display.YouTubeVideo at 0x24c28ed68e0>"
      ]
     },
     "execution_count": 16,
     "metadata": {},
     "output_type": "execute_result"
    }
   ],
   "source": [
    "YouTubeVideo(id=\"_bp5LTQ9D0M\", start=int(timedelta(hours=0, minutes=0, seconds=33).total_seconds()))"
   ]
  },
  {
   "cell_type": "markdown",
   "id": "b7167c46-c32f-48a0-901b-a57f057fd4f3",
   "metadata": {},
   "source": [
    "[YouTube link](https://youtu.be/_bp5LTQ9D0M?t=33)"
   ]
  },
  {
   "cell_type": "markdown",
   "id": "4822bab6-5d0b-4c8d-98ec-69bdedd87e24",
   "metadata": {
    "slideshow": {
     "slide_type": "slide"
    },
    "tags": []
   },
   "source": [
    "## Semantic Segmentation\n",
    "\n",
    "<img src=\"https://www.researchgate.net/publication/326875064/figure/fig3/AS:659518916681730@1534252971987/Example-of-2D-semantic-segmentation-Top-input-image-Bottom-prediction.png\" width=\"700\" />\n",
    "\n",
    "\n",
    "Source: [Jeong, J.; Yoon, T.S.; Park, J.B. Towards a Meaningful 3D Map Using a 3D Lidar and a Camera. Sensors 2018, 18, 2571.](https://doi.org/10.3390/s18082571)\n"
   ]
  },
  {
   "cell_type": "markdown",
   "id": "cb8da139-98db-4ed7-9fa2-02af3b8bded5",
   "metadata": {
    "slideshow": {
     "slide_type": "slide"
    },
    "tags": []
   },
   "source": [
    "<img src=\"https://www.jeremyjordan.me/content/images/2018/05/deeplabcityscape.gif\" width=\"700\"/>\n",
    "\n",
    "Source: [An overview of semantic image segmentation by Jeremy Jordan](https://www.jeremyjordan.me/semantic-segmentation/) and [YouTube](https://www.youtube.com/watch?v=ATlcEDSPWXY)"
   ]
  },
  {
   "cell_type": "markdown",
   "id": "d1d5a7ea-66ab-4450-8527-66af0cf5720e",
   "metadata": {
    "slideshow": {
     "slide_type": "slide"
    },
    "tags": []
   },
   "source": [
    "### Semantic segmentation: U-Net\n",
    "\n",
    "\n",
    "<img src=\"https://camo.githubusercontent.com/d55a437337d0e08c6a082714959253d80b81ce4e6c18e94688d9aff16e3bf2f8/68747470733a2f2f6c6d622e696e666f726d6174696b2e756e692d66726569627572672e64652f70656f706c652f726f6e6e656265722f752d6e65742f752d6e65742d6172636869746563747572652e706e67\" width=\"700\"/>\n",
    "\n",
    "\n",
    "[Ronneberger, O., P.Fischer, & Brox, T. (2015). U-Net: Convolutional Networks for Biomedical Image Segmentation. Medical Image Computing and Computer-Assisted Intervention (MICCAI), 9351, 234–241. http://lmb.informatik.uni-freiburg.de/Publications/2015/RFB15a](https://doi.org/10.1007/978-3-319-24574-4_28)\n"
   ]
  },
  {
   "cell_type": "markdown",
   "id": "e7ce0803-d2d4-4bd5-8f41-6a9be9475d99",
   "metadata": {
    "slideshow": {
     "slide_type": "slide"
    },
    "tags": []
   },
   "source": [
    "## Instance Segmentation\n",
    "\n",
    "<img style=\"height:500px\" src=\"https://www.researchgate.net/profile/Samuel-Van-Ackere/publication/337673123/figure/fig43/AS:831567765188614@1575272613523/4-Difference-between-classification-and-localisation-object-detection-semantic.jpg\" />"
   ]
  },
  {
   "cell_type": "markdown",
   "id": "885579d7-76c9-4e93-96e0-9bb39b8e9ef4",
   "metadata": {
    "slideshow": {
     "slide_type": "slide"
    },
    "tags": []
   },
   "source": [
    "## Instance Segmentation\n",
    "\n",
    "Input:\n",
    "* Image\n",
    "\n",
    "Output:\n",
    "* Per pixel segmenation of each individual object of each class"
   ]
  },
  {
   "cell_type": "markdown",
   "id": "686aaa85-7ba1-48f3-ad02-ec54922498e6",
   "metadata": {
    "slideshow": {
     "slide_type": "slide"
    },
    "tags": []
   },
   "source": [
    "## Segmentation - evaluation\n",
    "\n",
    "Per pixel (voxel)\n",
    "* Intesection over Union (Jaccard index)\n",
    "  $$\n",
    "  IoU = \\frac{\\left|{A} \\cap {B}\\right|}{\\left|{A} \\cup {B}\\right|}\n",
    "  $$\n"
   ]
  },
  {
   "cell_type": "markdown",
   "id": "888584a2-d5f6-448f-9551-b71b94c2a1eb",
   "metadata": {
    "slideshow": {
     "slide_type": "fragment"
    },
    "tags": []
   },
   "source": [
    "\n",
    "* Dice coefficient\n",
    "  $$\n",
    "  DICE = \\frac{2\\left|{A} \\cap {B}\\right|}{\\left|{A}\\right| + \\left|{B}\\right|} = \\frac{2 TP}{2 TP + FP + FN}\n",
    "  $$\n",
    "  "
   ]
  },
  {
   "cell_type": "markdown",
   "id": "db4d70ef-f7ac-4d1c-9254-cc27eee2c7f3",
   "metadata": {
    "slideshow": {
     "slide_type": "fragment"
    },
    "tags": []
   },
   "source": [
    "* Pixel Accuracy\n",
    "  $$\n",
    "  \\textrm{Accuracy} = \\frac{TP + TN}{TP + TN + FP + FN}\n",
    "  $$\n",
    "  Pixel Accuracy can sometimes provide misleading results when the class representation is small within the image, as the measure will be biased in mainly reporting how well you identify negative case (ie. where the class is not present)."
   ]
  },
  {
   "cell_type": "markdown",
   "id": "d5198467-1d87-4559-863c-0de048fd0968",
   "metadata": {
    "slideshow": {
     "slide_type": "slide"
    },
    "tags": []
   },
   "source": [
    "![sliver_metodics](sliver_metodics_all.png)"
   ]
  },
  {
   "cell_type": "markdown",
   "id": "5938c233-ac0d-4a4e-b6b9-c8783701bfa6",
   "metadata": {
    "slideshow": {
     "slide_type": "slide"
    },
    "tags": []
   },
   "source": [
    "* Hausdorf distance \n",
    "  $$\n",
    "  d(\\mathcal{S}_1, \\mathcal{S}_2) = max_{p \\in \\mathcal{S}_1}(d(p, \\mathcal{S}_2)) \\label{eq:05}\n",
    "  $$\n",
    "* Max distance\n",
    "  $$\n",
    "  \\text{MaxD} = max(d(\\mathcal{S}_1, \\mathcal{S}_2), d(\\mathcal{S}_2, \\mathcal{S}_1)) \\label{eq:04}\n",
    "  $$\n",
    "* Average Symmetric Surface Distance\n",
    "  $$\n",
    "  \\text{ASD}=\\frac1{{\\left|\\text{S}{\\left(\\text{GT}\\right)}\\right|}+{\\left|{\\left.\\text{S}\\left(\\text{MS}\\right.\\right)}\\right|}}{\\left(\\sum_{\\left.{\\text{S}}_\\text{gt}\\in\\text{S}\\left(\\text{GT}\\right.\\right)}\\text{d}{\\left({\\text{S}}_\\text{gt},\\text{S}{\\left(\\text{MS}\\right)}\\right)}+\\sum_{\\left.{\\text{S}}_\\text{ms}\\in\\text{S}\\left(\\text{MS}\\right.\\right)}\\text{d}{\\left({\\text{S}}_\\text{ms},\\text{S}{\\left(\\text{GT}\\right)}\\right)}\\right)}\n",
    "  $$\n",
    "  Average of all the distances from points on the boundary of MS to the boundary of the GT, and vice versa\n"
   ]
  },
  {
   "cell_type": "markdown",
   "id": "01eb0e17-1df4-4689-a2a0-ac8578925b52",
   "metadata": {
    "slideshow": {
     "slide_type": "slide"
    },
    "tags": []
   },
   "source": [
    "<img src=\"https://www.ncbi.nlm.nih.gov/pmc/articles/PMC5817231/bin/JMI-005-015006-g001.jpg\">"
   ]
  },
  {
   "cell_type": "markdown",
   "id": "4c5fac1d-88d0-4f5b-ae5d-5bce635ae4e3",
   "metadata": {
    "slideshow": {
     "slide_type": "slide"
    },
    "tags": []
   },
   "source": [
    "### References\n",
    "\n",
    "* [Yeghiazaryan and Voiculescu: Family of boundary overlap metrics for the evaluation of medical image segmentation](https://www.ncbi.nlm.nih.gov/pmc/articles/PMC5817231/)\n",
    "* [Jeremy Jordan: Evaluating image segmentation models](https://www.jeremyjordan.me/evaluating-image-segmentation-models/)"
   ]
  },
  {
   "cell_type": "markdown",
   "id": "a4e72bcc-3733-49cc-a43f-70d853ec1110",
   "metadata": {
    "slideshow": {
     "slide_type": "slide"
    },
    "tags": []
   },
   "source": [
    "## Segmentation - Conclusion\n",
    "\n",
    "Input:\n",
    "* Image\n",
    "\n",
    "Output:\n",
    "* Labeled Image\n",
    "\n",
    "Metrics:\n",
    "* Intersection over Union\n",
    "* Jaccard index\n",
    "* Pixel Accuracy (problematic)\n",
    "* Hausdorf distance / Max distance\n",
    "* Average Symmetric Surface Distance"
   ]
  },
  {
   "cell_type": "markdown",
   "id": "4c4cc896-8c9c-43c2-93be-fb27f39ee651",
   "metadata": {
    "slideshow": {
     "slide_type": "slide"
    },
    "tags": []
   },
   "source": [
    "# Tracking\n",
    "\n",
    "Input: \n",
    "* Video\n",
    "\n",
    "Output:\n",
    "* Tracks defined by coordinates of single point or bounding box in time."
   ]
  },
  {
   "cell_type": "code",
   "execution_count": 7,
   "id": "135a50d2-89e9-4fee-ba86-640be2b49218",
   "metadata": {
    "slideshow": {
     "slide_type": "slide"
    },
    "tags": []
   },
   "outputs": [
    {
     "data": {
      "image/jpeg": "[encoded data removed]",
      "text/html": [
       "\n",
       "        <iframe\n",
       "            width=\"400\"\n",
       "            height=\"300\"\n",
       "            src=\"https://www.youtube.com/embed/re5VNG4PJ3M\"\n",
       "            frameborder=\"0\"\n",
       "            allowfullscreen\n",
       "            \n",
       "        ></iframe>\n",
       "        "
      ],
      "text/plain": [
       "<IPython.lib.display.YouTubeVideo at 0x24c29192f70>"
      ]
     },
     "execution_count": 7,
     "metadata": {},
     "output_type": "execute_result"
    }
   ],
   "source": [
    "YouTubeVideo(id=\"re5VNG4PJ3M\")"
   ]
  },
  {
   "cell_type": "markdown",
   "id": "073a5c1a-2335-45ff-af54-966a10110769",
   "metadata": {
    "slideshow": {
     "slide_type": "slide"
    },
    "tags": []
   },
   "source": [
    "## Tracking - Evaluation\n",
    "\n",
    "![track errors](https://www.ncbi.nlm.nih.gov/pmc/articles/instance/8839404/bin/sensors-22-00793-g002.jpg)"
   ]
  },
  {
   "cell_type": "markdown",
   "id": "276ab22a-25eb-400a-ac68-2b08c2b52bc1",
   "metadata": {
    "slideshow": {
     "slide_type": "slide"
    },
    "tags": []
   },
   "source": [
    "## Tracking - Evaluation\n",
    "\n",
    "Point tracking\n",
    "* Mean Square Error\n",
    "* Hausdorff distance (MaxD)\n"
   ]
  },
  {
   "cell_type": "markdown",
   "id": "f4493d0b-e498-4847-beba-49be0303fde0",
   "metadata": {
    "slideshow": {
     "slide_type": "fragment"
    },
    "tags": []
   },
   "source": [
    "Bounding box tracking:\n",
    "* Multiple Object Tracking Accuracy (MOTA)\n",
    "$$\n",
    "MOTA = 1 - \\frac{\\sum_t{FN_t + FP_t + IDSt}}{\\sum_t{GT_t}}\n",
    "$$\n",
    "where $FN_t$ is the number of false negatives (missed targets), $FP_t$ the number of false positives (ghost trajectories), $IDS_t$ the number of identity switches at time t. A target is considered missed if the IoU with the ground truth is inferior to a given threshold. (Note that the MOTA can be negative.)"
   ]
  },
  {
   "cell_type": "markdown",
   "id": "c0bbce7b-e713-49e3-bc28-a2615e254377",
   "metadata": {
    "slideshow": {
     "slide_type": "slide"
    },
    "tags": []
   },
   "source": [
    "## References\n",
    "* [Song et al.: Performance Evaluation Metrics and Approaches for Target Tracking: A Survey](https://doi.org/10.3390/s22030793)\n",
    "* [Cindy Tring Sridykhan: A tour of Video Object Tracking — Part III: Multiple Object Tracking](https://medium.com/@cindy.trinh.sridykhan/a-tour-of-video-object-tracking-part-iii-multiple-object-tracking-5e3a15ae0a7c)"
   ]
  },
  {
   "cell_type": "code",
   "execution_count": null,
   "id": "1ef78d3d-3510-4ad6-9c77-1d2dcb419251",
   "metadata": {},
   "outputs": [],
   "source": []
  },
  {
   "cell_type": "markdown",
   "id": "bf5d468a-70b8-4e5a-a0e6-ee1d1cdf0d79",
   "metadata": {
    "slideshow": {
     "slide_type": "slide"
    },
    "tags": []
   },
   "source": [
    "# Style Transfer\n",
    "\n",
    "<img src=\"https://machinelearningmastery.com/wp-content/uploads/2018/12/Example-of-Neural-Style-Transfer-from-Famous-Artworks-to-a-Photograph.png\" width=\"400\"/>\n"
   ]
  },
  {
   "cell_type": "markdown",
   "id": "082c035a-e3ac-44a3-b1ab-cc2a195ddb49",
   "metadata": {
    "slideshow": {
     "slide_type": "slide"
    },
    "tags": []
   },
   "source": [
    "![colorization](https://machinelearningmastery.com/wp-content/uploads/2018/12/Examples-of-Photo-Colorization.png)"
   ]
  },
  {
   "cell_type": "markdown",
   "id": "6f44ce5a-465e-41f9-b8b0-9f4290dcf1ba",
   "metadata": {
    "slideshow": {
     "slide_type": "slide"
    },
    "tags": []
   },
   "source": [
    "![zebra](https://machinelearningmastery.com/wp-content/uploads/2018/12/Example-of-Styling-Zebras-and-Horses.png)\n",
    "\n",
    "Taken from \"Unpaired Image-to-Image Translation using Cycle-Consistent Adversarial Networks\""
   ]
  },
  {
   "cell_type": "markdown",
   "id": "9004371c-b9f5-4844-9a40-ea743a8b2e8a",
   "metadata": {
    "slideshow": {
     "slide_type": "slide"
    },
    "tags": []
   },
   "source": [
    "![domain adaptation](https://miro.medium.com/max/738/1*b6YegiCxQYGTf3HPwzCPzQ.png)\n",
    "\n",
    "Taken from \"10 Interesting Computer Vision Tasks\""
   ]
  },
  {
   "cell_type": "markdown",
   "id": "3390f34a-3ae4-443e-ad3f-520021ef7e2b",
   "metadata": {
    "slideshow": {
     "slide_type": "notes"
    },
    "tags": []
   },
   "source": [
    "Může se jednat i o změnu z léta do zimy, nebo z fotografie na kresbu"
   ]
  },
  {
   "cell_type": "markdown",
   "id": "8f5fb329-7051-474f-8bca-617b3d66684b",
   "metadata": {
    "slideshow": {
     "slide_type": "slide"
    },
    "tags": []
   },
   "source": [
    "## References\n",
    "* [A Neural Algorithm of Artistic Style](https://arxiv.org/abs/1508.06576)\n",
    "* [Application of Deep Learning for Computer Vision](https://machinelearningmastery.com/applications-of-deep-learning-for-computer-vision/)\n",
    "* [Colorful Image Colorization](https://arxiv.org/abs/1603.08511)\n",
    "* [Unpaired Image-to-Image Translation using Cycle-Consistent Adversarial Networks](https://arxiv.org/abs/1703.10593)\n",
    "* [10 Interesting Computer Vision Tasks](https://towardsdev.com/10-interesting-computer-vision-tasks-3e5437a14668)"
   ]
  },
  {
   "cell_type": "markdown",
   "id": "20cbe1d3-c825-4c35-b6eb-75482857bef6",
   "metadata": {
    "slideshow": {
     "slide_type": "slide"
    },
    "tags": []
   },
   "source": [
    "# Style Transfer\n",
    "\n",
    "Input:\n",
    "* Image\n",
    "\n",
    "Output: \n",
    "* Image transfered in different style"
   ]
  },
  {
   "cell_type": "markdown",
   "id": "ac0a3fbf-086e-4615-8b92-f840bed23abd",
   "metadata": {
    "slideshow": {
     "slide_type": "slide"
    },
    "tags": []
   },
   "source": [
    "# Image Reconstruction \n",
    "Image reconstruction and image inpainting is the task of filling in missing or corrupt parts of an image.\n",
    "\n",
    "![image restauration](https://machinelearningmastery.com/wp-content/uploads/2018/12/Example-of-Photo-Inpainting.png)\n",
    "\n",
    "Taken from \"Image Inpainting for Irregular Holes Using Partial Convolutions\""
   ]
  },
  {
   "cell_type": "markdown",
   "id": "4191816b-c4b1-4e17-8ebb-50d9142615f7",
   "metadata": {
    "slideshow": {
     "slide_type": "slide"
    },
    "tags": []
   },
   "source": [
    "## References\n",
    "* [Image Inpainting for Irregular Holes Using Partial Convolutions](https://arxiv.org/abs/1804.07723)"
   ]
  },
  {
   "cell_type": "markdown",
   "id": "dcdc7283-3022-42e4-98f5-93e504874be4",
   "metadata": {
    "slideshow": {
     "slide_type": "slide"
    },
    "tags": []
   },
   "source": [
    "# Image Super Resolution\n",
    "\n",
    "![super resolution](https://machinelearningmastery.com/wp-content/uploads/2018/12/Example-of-the-results-from-Different-Super-Resolution-Techniques.png)\n",
    "\n",
    "Taken from \"Photo-Realistic Single Image Super-Resolution Using a Generative Adversarial Network\"\n"
   ]
  },
  {
   "cell_type": "markdown",
   "id": "0eb875c9-7881-4be0-81c0-9702adbfdbea",
   "metadata": {
    "slideshow": {
     "slide_type": "slide"
    },
    "tags": []
   },
   "source": [
    "## References\n",
    "* [Photo-Realistic Single Image Super-Resolution Using a Generative Adversarial Network](https://arxiv.org/abs/1609.04802)"
   ]
  },
  {
   "cell_type": "markdown",
   "id": "2b50172e-6029-4b36-88ae-762a64848f56",
   "metadata": {
    "slideshow": {
     "slide_type": "slide"
    },
    "tags": []
   },
   "source": [
    "# Image Synthesis\n",
    "\n",
    "![image synthesis](https://machinelearningmastery.com/wp-content/uploads/2018/12/Example-of-Generated-Bathrooms.png)\n",
    "\n",
    "Example of Generated Bathrooms.\n",
    "Taken from \"Unsupervised Representation Learning with Deep Convolutional Generative Adversarial Networks\""
   ]
  },
  {
   "cell_type": "markdown",
   "id": "d1d52045-9b95-4972-8cde-7094690b12f3",
   "metadata": {
    "slideshow": {
     "slide_type": "slide"
    },
    "tags": []
   },
   "source": [
    "## References\n",
    " * [Unsupervised Representation Learning with Deep Convolutional Generative Adversarial Networks](https://arxiv.org/abs/1511.06434)"
   ]
  },
  {
   "cell_type": "markdown",
   "id": "3a0394bb-3b8c-4450-9b92-d569daea4046",
   "metadata": {
    "slideshow": {
     "slide_type": "slide"
    },
    "tags": []
   },
   "source": [
    "# Pose estimation\n",
    "\n",
    "![pose estimation sports](https://miro.medium.com/max/1400/1*BYB1vH9_18onpci0RfVnWA.png)\n",
    "\n",
    "Taken from \"Deep Sports Pose\""
   ]
  },
  {
   "cell_type": "markdown",
   "id": "1058c4ca-4864-4c05-967b-4e60ae184519",
   "metadata": {
    "slideshow": {
     "slide_type": "slide"
    },
    "tags": []
   },
   "source": [
    "![lynx](lynx_lynx.jpeg)"
   ]
  },
  {
   "cell_type": "markdown",
   "id": "f34ba807-43bf-4409-ab05-9561882173ec",
   "metadata": {},
   "source": [
    "<img src=\"https://lh3.googleusercontent.com/juF-2r6lR2HJygYebXlzXHWs5R7LmPtstjOnA9L2xNSbszVvRDf_ppC2vlQuQ1St2hiOC3gJfIy5KWm_ivOEL1tGm_ZfTyjLBzuYEZHSiq1fQz7_OH3f4bbo21YxvyjVP30ktwvYvbAa_xAYZ5iQOcshbSJ6rLLDT8cO7lJM8tcbgoD2ARKK9QJCAn4zZVHUVGHT6nvbMTEbDMDCUzsnYQuSZMFwx-DUwuOu78m8AogIR5M6hVoVI0TRj_nrPVYUqFPWE4QKr8UKDdrsz4OMVDqy-xhv-jCoXDu9CngaRam-fxHekzQ-qejV8IAmD24B_H9frKsAgH_GAUhyoYo-_HlpLcU-afaJnbH48hsj73P1y9dtPK51tzA0qok5JbS-_aACA2sGIqbGxATxMd2L9-POqT2EcD8NELyS1V9kQkQrDtYl1aNvh8jpj2T945thfJ6tRNNJh6J7sSeZsulPY-7uEZG73FA2m-DCumh7YB1hHsOGGdIr8XPWCtbWvU9lyh3c-dMScGlhkOXhTGUf8qF-sZl4NyqOOKOHHM3RV6fnRp_6GYeij3MzTqHzpU7gZ9q4isweOl7g5c6RV3FqtbgWTl7PcnvoG8WfJT-wzT5ApkcGMcRhA0ourFjdpp6HDhM9i4cyRaAGCigm91LkoB764RBz-QBP9uaQDAnu69hnxypSpXAtY6J-TBvYRAFkxxNM6CMnKct7rk8rE4MQiRBc=w1214-h910-no?authuser=0\"/>"
   ]
  },
  {
   "cell_type": "markdown",
   "id": "eb882256-b583-4004-83f3-b9169c233866",
   "metadata": {},
   "source": [
    "<img src=\"https://lh3.googleusercontent.com/0Yg9VYn-vN7DkVKNQRJlOBui6-UXkwX-aiVFZJmXtTKsWplIqBqdd-cQ8Lnp2tdTjM9qSh1YlaN6SW1FWZk15UlKt4nkifajNF3u42DbVC5eK0vYRHSfrdqwuFWOuP8AUTpEM2fuxbzpHTj1Uodr33T5VJVhJYD-QVmW-Z02USNeZisjJJW7DATiDECgfMQos6Mkn0zyeRQ93HVZLniuCqJ-RmnIRTsuBbsVJpacwUIVgJYS4JX3o29xJz9x5P0KYMafER5Km3H5JkbAndPhVFuanIMHZEX5w5xdcrcRuIKaHEPS0dTuAT_vpLo4RaG6UfbP1qFOqCcg_7i0L0AgbZeIDGCBuIcpa0uWVLx5l2JZDFs2npCVTOi-rAa7Helyoew0KyyGmap4D7wppL1q-0Mio5Do7-kaEpDu24O1fmX841ojxKdIJ7g6kad1tlD5dFuRf0ukvk3a7vuw9t7s7z5RlomAX0KuoAI-5Uzr6Igw-qkWrErRi3EOTdddbA9UJigP546AwHaYqx_6w_7nvhxz-jcyr8y62vrWU97kt50hCmsxJkBjEhSPIJIea3n6Fx80B1H3W5U2OyH36j9_0_9xFKHAYri23GTu5Ob-E-JXD8Pa5TDPPn8Ucn16dcx2LtDReGUBJ2qsPoeCj7fYwA9PJFti9QHVOtr2wz-07wBjvPbyToTujj7iT7NJXk9vtLdiMdDiMlEqMjv-kiciyZV9=w1542-h868-no?authuser=0\"/>"
   ]
  },
  {
   "cell_type": "markdown",
   "id": "69f46b64-c332-41aa-b003-f73994021835",
   "metadata": {},
   "source": [
    "<img src=\"https://lh3.googleusercontent.com/eD5km0q3ZhXg9ICqsYYfvrVPbghCrkP7LMLBsmnsJeWtnkOrKpcdqEY-ORHx7wQDqvio53WIMzYE533PQR_-GTxNm5uK3dnq0e_gxGsmzil7V6-nUMwxCqeC4S2Pwes95LAVcI69WKCZXY8G2YtoMfHzWg-ug1YTH021s0lFGro0KcHxnq9Mot5gTJtNLJHljiLL9eynrRbonUkv5I1UxydgxJNKyJSpO2Dds6VEgPhiM9RQBKccHCXB55NHbeHSBi7LFgzv8eWiPPCIWlSZQMhpt9U4i9HtYY7AS40s61XwntmZS8XAvwbvb_oDv6tssnqCI9xFqQjRECimUiqH7tTtokxa--vSsnN-dUxFgiYP6x2i4PlE2qMhZkYGSrWai0UCWMR8xnK2qsYqefvKC7v59o2VUmfVZtMBvuBAN5Aojg3ppD4ipJFhsGlFvXdiDCo5WvBHeezts1uVilG8J_edBQO28w2cv5S1Xdrm5HB-Z-O3HEc7M6oa5l0c_eQZqYcuByfauZeRuivcudQ4NaVCpbvqLiEOt8nT6hKDINFLTkAm_LCE5uO5ljnachAave9VUhTsJ73h3k7YY-B-90bh7CSDkIszbT7mPLU7peCoJ3hXz62FoEfaP9yubVH57xE8uoCPNS2ngRsQz9O0rRMZL00rGRj2j-JUcDDgiXesJAnAp11X-LRMB0meXO7-5pGDClYo7AC56_k4ilNaPq3t=w1542-h868-no?authuser=0\"/>"
   ]
  },
  {
   "cell_type": "markdown",
   "id": "a4688e40-d383-4db9-af9b-46b5b096cb83",
   "metadata": {
    "slideshow": {
     "slide_type": "slide"
    },
    "tags": []
   },
   "source": [
    "# References\n",
    "* [Deep Sports Pose](https://www.uni-augsburg.de/en/fakultaet/fai/informatik/prof/mmc/research/research_projects/deep_sports_pose/)"
   ]
  },
  {
   "cell_type": "markdown",
   "id": "aa998c39-4ba4-4d7b-bbd9-f087dba6ab04",
   "metadata": {
    "slideshow": {
     "slide_type": "skip"
    },
    "tags": []
   },
   "source": [
    "# Most important tasks?\n",
    "\n",
    "* Classification\n",
    "* Filtration\n",
    "* Localization\n",
    "* Detection\n",
    "* Tracking\n",
    "* Style Transfer\n",
    "* Recognition\n",
    "* Identification\n",
    "* Verification\n",
    "* Segmentation\n",
    "* Landmark detection\n",
    "* Image restauration"
   ]
  },
  {
   "cell_type": "code",
   "execution_count": null,
   "id": "be037ea3-0c3a-45fd-a5e0-3c4915adbccf",
   "metadata": {},
   "outputs": [],
   "source": []
  },
  {
   "cell_type": "code",
   "execution_count": 14,
   "id": "b33cfd66-3e4d-4988-a6a1-9a231ed7132f",
   "metadata": {
    "slideshow": {
     "slide_type": "skip"
    },
    "tags": []
   },
   "outputs": [
    {
     "data": {
      "text/html": [
       "<div>\n",
       "<style scoped>\n",
       "    .dataframe tbody tr th:only-of-type {\n",
       "        vertical-align: middle;\n",
       "    }\n",
       "\n",
       "    .dataframe tbody tr th {\n",
       "        vertical-align: top;\n",
       "    }\n",
       "\n",
       "    .dataframe thead th {\n",
       "        text-align: right;\n",
       "    }\n",
       "</style>\n",
       "<table border=\"1\" class=\"dataframe\">\n",
       "  <thead>\n",
       "    <tr style=\"text-align: right;\">\n",
       "      <th></th>\n",
       "      <th>0</th>\n",
       "      <th>1</th>\n",
       "      <th>2</th>\n",
       "      <th>3</th>\n",
       "      <th>4</th>\n",
       "      <th>5</th>\n",
       "      <th>6</th>\n",
       "      <th>7</th>\n",
       "      <th>8</th>\n",
       "      <th>9</th>\n",
       "      <th>...</th>\n",
       "      <th>20</th>\n",
       "      <th>21</th>\n",
       "      <th>22</th>\n",
       "      <th>23</th>\n",
       "      <th>24</th>\n",
       "      <th>25</th>\n",
       "      <th>26</th>\n",
       "      <th>27</th>\n",
       "      <th>28</th>\n",
       "      <th>29</th>\n",
       "    </tr>\n",
       "  </thead>\n",
       "  <tbody>\n",
       "    <tr>\n",
       "      <th>0</th>\n",
       "      <td>17.99</td>\n",
       "      <td>10.38</td>\n",
       "      <td>122.80</td>\n",
       "      <td>1001.0</td>\n",
       "      <td>0.11840</td>\n",
       "      <td>0.27760</td>\n",
       "      <td>0.30010</td>\n",
       "      <td>0.14710</td>\n",
       "      <td>0.2419</td>\n",
       "      <td>0.07871</td>\n",
       "      <td>...</td>\n",
       "      <td>25.380</td>\n",
       "      <td>17.33</td>\n",
       "      <td>184.60</td>\n",
       "      <td>2019.0</td>\n",
       "      <td>0.16220</td>\n",
       "      <td>0.66560</td>\n",
       "      <td>0.7119</td>\n",
       "      <td>0.2654</td>\n",
       "      <td>0.4601</td>\n",
       "      <td>0.11890</td>\n",
       "    </tr>\n",
       "    <tr>\n",
       "      <th>1</th>\n",
       "      <td>20.57</td>\n",
       "      <td>17.77</td>\n",
       "      <td>132.90</td>\n",
       "      <td>1326.0</td>\n",
       "      <td>0.08474</td>\n",
       "      <td>0.07864</td>\n",
       "      <td>0.08690</td>\n",
       "      <td>0.07017</td>\n",
       "      <td>0.1812</td>\n",
       "      <td>0.05667</td>\n",
       "      <td>...</td>\n",
       "      <td>24.990</td>\n",
       "      <td>23.41</td>\n",
       "      <td>158.80</td>\n",
       "      <td>1956.0</td>\n",
       "      <td>0.12380</td>\n",
       "      <td>0.18660</td>\n",
       "      <td>0.2416</td>\n",
       "      <td>0.1860</td>\n",
       "      <td>0.2750</td>\n",
       "      <td>0.08902</td>\n",
       "    </tr>\n",
       "    <tr>\n",
       "      <th>2</th>\n",
       "      <td>19.69</td>\n",
       "      <td>21.25</td>\n",
       "      <td>130.00</td>\n",
       "      <td>1203.0</td>\n",
       "      <td>0.10960</td>\n",
       "      <td>0.15990</td>\n",
       "      <td>0.19740</td>\n",
       "      <td>0.12790</td>\n",
       "      <td>0.2069</td>\n",
       "      <td>0.05999</td>\n",
       "      <td>...</td>\n",
       "      <td>23.570</td>\n",
       "      <td>25.53</td>\n",
       "      <td>152.50</td>\n",
       "      <td>1709.0</td>\n",
       "      <td>0.14440</td>\n",
       "      <td>0.42450</td>\n",
       "      <td>0.4504</td>\n",
       "      <td>0.2430</td>\n",
       "      <td>0.3613</td>\n",
       "      <td>0.08758</td>\n",
       "    </tr>\n",
       "    <tr>\n",
       "      <th>3</th>\n",
       "      <td>11.42</td>\n",
       "      <td>20.38</td>\n",
       "      <td>77.58</td>\n",
       "      <td>386.1</td>\n",
       "      <td>0.14250</td>\n",
       "      <td>0.28390</td>\n",
       "      <td>0.24140</td>\n",
       "      <td>0.10520</td>\n",
       "      <td>0.2597</td>\n",
       "      <td>0.09744</td>\n",
       "      <td>...</td>\n",
       "      <td>14.910</td>\n",
       "      <td>26.50</td>\n",
       "      <td>98.87</td>\n",
       "      <td>567.7</td>\n",
       "      <td>0.20980</td>\n",
       "      <td>0.86630</td>\n",
       "      <td>0.6869</td>\n",
       "      <td>0.2575</td>\n",
       "      <td>0.6638</td>\n",
       "      <td>0.17300</td>\n",
       "    </tr>\n",
       "    <tr>\n",
       "      <th>4</th>\n",
       "      <td>20.29</td>\n",
       "      <td>14.34</td>\n",
       "      <td>135.10</td>\n",
       "      <td>1297.0</td>\n",
       "      <td>0.10030</td>\n",
       "      <td>0.13280</td>\n",
       "      <td>0.19800</td>\n",
       "      <td>0.10430</td>\n",
       "      <td>0.1809</td>\n",
       "      <td>0.05883</td>\n",
       "      <td>...</td>\n",
       "      <td>22.540</td>\n",
       "      <td>16.67</td>\n",
       "      <td>152.20</td>\n",
       "      <td>1575.0</td>\n",
       "      <td>0.13740</td>\n",
       "      <td>0.20500</td>\n",
       "      <td>0.4000</td>\n",
       "      <td>0.1625</td>\n",
       "      <td>0.2364</td>\n",
       "      <td>0.07678</td>\n",
       "    </tr>\n",
       "    <tr>\n",
       "      <th>...</th>\n",
       "      <td>...</td>\n",
       "      <td>...</td>\n",
       "      <td>...</td>\n",
       "      <td>...</td>\n",
       "      <td>...</td>\n",
       "      <td>...</td>\n",
       "      <td>...</td>\n",
       "      <td>...</td>\n",
       "      <td>...</td>\n",
       "      <td>...</td>\n",
       "      <td>...</td>\n",
       "      <td>...</td>\n",
       "      <td>...</td>\n",
       "      <td>...</td>\n",
       "      <td>...</td>\n",
       "      <td>...</td>\n",
       "      <td>...</td>\n",
       "      <td>...</td>\n",
       "      <td>...</td>\n",
       "      <td>...</td>\n",
       "      <td>...</td>\n",
       "    </tr>\n",
       "    <tr>\n",
       "      <th>564</th>\n",
       "      <td>21.56</td>\n",
       "      <td>22.39</td>\n",
       "      <td>142.00</td>\n",
       "      <td>1479.0</td>\n",
       "      <td>0.11100</td>\n",
       "      <td>0.11590</td>\n",
       "      <td>0.24390</td>\n",
       "      <td>0.13890</td>\n",
       "      <td>0.1726</td>\n",
       "      <td>0.05623</td>\n",
       "      <td>...</td>\n",
       "      <td>25.450</td>\n",
       "      <td>26.40</td>\n",
       "      <td>166.10</td>\n",
       "      <td>2027.0</td>\n",
       "      <td>0.14100</td>\n",
       "      <td>0.21130</td>\n",
       "      <td>0.4107</td>\n",
       "      <td>0.2216</td>\n",
       "      <td>0.2060</td>\n",
       "      <td>0.07115</td>\n",
       "    </tr>\n",
       "    <tr>\n",
       "      <th>565</th>\n",
       "      <td>20.13</td>\n",
       "      <td>28.25</td>\n",
       "      <td>131.20</td>\n",
       "      <td>1261.0</td>\n",
       "      <td>0.09780</td>\n",
       "      <td>0.10340</td>\n",
       "      <td>0.14400</td>\n",
       "      <td>0.09791</td>\n",
       "      <td>0.1752</td>\n",
       "      <td>0.05533</td>\n",
       "      <td>...</td>\n",
       "      <td>23.690</td>\n",
       "      <td>38.25</td>\n",
       "      <td>155.00</td>\n",
       "      <td>1731.0</td>\n",
       "      <td>0.11660</td>\n",
       "      <td>0.19220</td>\n",
       "      <td>0.3215</td>\n",
       "      <td>0.1628</td>\n",
       "      <td>0.2572</td>\n",
       "      <td>0.06637</td>\n",
       "    </tr>\n",
       "    <tr>\n",
       "      <th>566</th>\n",
       "      <td>16.60</td>\n",
       "      <td>28.08</td>\n",
       "      <td>108.30</td>\n",
       "      <td>858.1</td>\n",
       "      <td>0.08455</td>\n",
       "      <td>0.10230</td>\n",
       "      <td>0.09251</td>\n",
       "      <td>0.05302</td>\n",
       "      <td>0.1590</td>\n",
       "      <td>0.05648</td>\n",
       "      <td>...</td>\n",
       "      <td>18.980</td>\n",
       "      <td>34.12</td>\n",
       "      <td>126.70</td>\n",
       "      <td>1124.0</td>\n",
       "      <td>0.11390</td>\n",
       "      <td>0.30940</td>\n",
       "      <td>0.3403</td>\n",
       "      <td>0.1418</td>\n",
       "      <td>0.2218</td>\n",
       "      <td>0.07820</td>\n",
       "    </tr>\n",
       "    <tr>\n",
       "      <th>567</th>\n",
       "      <td>20.60</td>\n",
       "      <td>29.33</td>\n",
       "      <td>140.10</td>\n",
       "      <td>1265.0</td>\n",
       "      <td>0.11780</td>\n",
       "      <td>0.27700</td>\n",
       "      <td>0.35140</td>\n",
       "      <td>0.15200</td>\n",
       "      <td>0.2397</td>\n",
       "      <td>0.07016</td>\n",
       "      <td>...</td>\n",
       "      <td>25.740</td>\n",
       "      <td>39.42</td>\n",
       "      <td>184.60</td>\n",
       "      <td>1821.0</td>\n",
       "      <td>0.16500</td>\n",
       "      <td>0.86810</td>\n",
       "      <td>0.9387</td>\n",
       "      <td>0.2650</td>\n",
       "      <td>0.4087</td>\n",
       "      <td>0.12400</td>\n",
       "    </tr>\n",
       "    <tr>\n",
       "      <th>568</th>\n",
       "      <td>7.76</td>\n",
       "      <td>24.54</td>\n",
       "      <td>47.92</td>\n",
       "      <td>181.0</td>\n",
       "      <td>0.05263</td>\n",
       "      <td>0.04362</td>\n",
       "      <td>0.00000</td>\n",
       "      <td>0.00000</td>\n",
       "      <td>0.1587</td>\n",
       "      <td>0.05884</td>\n",
       "      <td>...</td>\n",
       "      <td>9.456</td>\n",
       "      <td>30.37</td>\n",
       "      <td>59.16</td>\n",
       "      <td>268.6</td>\n",
       "      <td>0.08996</td>\n",
       "      <td>0.06444</td>\n",
       "      <td>0.0000</td>\n",
       "      <td>0.0000</td>\n",
       "      <td>0.2871</td>\n",
       "      <td>0.07039</td>\n",
       "    </tr>\n",
       "  </tbody>\n",
       "</table>\n",
       "<p>569 rows × 30 columns</p>\n",
       "</div>"
      ],
      "text/plain": [
       "        0      1       2       3        4        5        6        7       8   \\\n",
       "0    17.99  10.38  122.80  1001.0  0.11840  0.27760  0.30010  0.14710  0.2419   \n",
       "1    20.57  17.77  132.90  1326.0  0.08474  0.07864  0.08690  0.07017  0.1812   \n",
       "2    19.69  21.25  130.00  1203.0  0.10960  0.15990  0.19740  0.12790  0.2069   \n",
       "3    11.42  20.38   77.58   386.1  0.14250  0.28390  0.24140  0.10520  0.2597   \n",
       "4    20.29  14.34  135.10  1297.0  0.10030  0.13280  0.19800  0.10430  0.1809   \n",
       "..     ...    ...     ...     ...      ...      ...      ...      ...     ...   \n",
       "564  21.56  22.39  142.00  1479.0  0.11100  0.11590  0.24390  0.13890  0.1726   \n",
       "565  20.13  28.25  131.20  1261.0  0.09780  0.10340  0.14400  0.09791  0.1752   \n",
       "566  16.60  28.08  108.30   858.1  0.08455  0.10230  0.09251  0.05302  0.1590   \n",
       "567  20.60  29.33  140.10  1265.0  0.11780  0.27700  0.35140  0.15200  0.2397   \n",
       "568   7.76  24.54   47.92   181.0  0.05263  0.04362  0.00000  0.00000  0.1587   \n",
       "\n",
       "          9   ...      20     21      22      23       24       25      26  \\\n",
       "0    0.07871  ...  25.380  17.33  184.60  2019.0  0.16220  0.66560  0.7119   \n",
       "1    0.05667  ...  24.990  23.41  158.80  1956.0  0.12380  0.18660  0.2416   \n",
       "2    0.05999  ...  23.570  25.53  152.50  1709.0  0.14440  0.42450  0.4504   \n",
       "3    0.09744  ...  14.910  26.50   98.87   567.7  0.20980  0.86630  0.6869   \n",
       "4    0.05883  ...  22.540  16.67  152.20  1575.0  0.13740  0.20500  0.4000   \n",
       "..       ...  ...     ...    ...     ...     ...      ...      ...     ...   \n",
       "564  0.05623  ...  25.450  26.40  166.10  2027.0  0.14100  0.21130  0.4107   \n",
       "565  0.05533  ...  23.690  38.25  155.00  1731.0  0.11660  0.19220  0.3215   \n",
       "566  0.05648  ...  18.980  34.12  126.70  1124.0  0.11390  0.30940  0.3403   \n",
       "567  0.07016  ...  25.740  39.42  184.60  1821.0  0.16500  0.86810  0.9387   \n",
       "568  0.05884  ...   9.456  30.37   59.16   268.6  0.08996  0.06444  0.0000   \n",
       "\n",
       "         27      28       29  \n",
       "0    0.2654  0.4601  0.11890  \n",
       "1    0.1860  0.2750  0.08902  \n",
       "2    0.2430  0.3613  0.08758  \n",
       "3    0.2575  0.6638  0.17300  \n",
       "4    0.1625  0.2364  0.07678  \n",
       "..      ...     ...      ...  \n",
       "564  0.2216  0.2060  0.07115  \n",
       "565  0.1628  0.2572  0.06637  \n",
       "566  0.1418  0.2218  0.07820  \n",
       "567  0.2650  0.4087  0.12400  \n",
       "568  0.0000  0.2871  0.07039  \n",
       "\n",
       "[569 rows x 30 columns]"
      ]
     },
     "execution_count": 14,
     "metadata": {},
     "output_type": "execute_result"
    }
   ],
   "source": [
    "import pandas as pd\n",
    "import numpy as np\n",
    "from sklearn import datasets\n",
    "#\n",
    "# Load the breast cancer data set\n",
    "#\n",
    "bc = datasets.load_breast_cancer()\n",
    "X = bc.data\n",
    "y = bc.target\n",
    "pd.DataFrame(X)"
   ]
  },
  {
   "cell_type": "code",
   "execution_count": null,
   "id": "b9fc4ac3-a980-4b3b-9234-530ddb28ead8",
   "metadata": {},
   "outputs": [],
   "source": []
  },
  {
   "cell_type": "markdown",
   "id": "22db04e1-d467-4719-aa41-f8f6e9fa52b4",
   "metadata": {
    "slideshow": {
     "slide_type": "slide"
    },
    "tags": []
   },
   "source": [
    "# Conclustion\n",
    "\n",
    "<table><tr>\n",
    "<th>Computer Vsision tasks</th>\n",
    "<th> Experiment evaluation</th>\n",
    "</tr>\n",
    "<tr>\n",
    "<td>\n",
    "    \n",
    "  * Classification\n",
    "  * Filtration\n",
    "  * Localization\n",
    "  * Detection\n",
    "  * Tracking\n",
    "  * Style Transfer\n",
    "  * Segmentation\n",
    "  * Landmark detection\n",
    "  * Image restauration\n",
    "\n",
    "</td>\n",
    "<td>\n",
    "    \n",
    "  * Mean Square Error\n",
    "  * Accuracy\n",
    "  * Precision\n",
    "  * Sensitivity\n",
    "  * Intersection over Union\n",
    "    \n",
    "</td>\n",
    "</tr>\n",
    "</table>"
   ]
  },
  {
   "cell_type": "code",
   "execution_count": null,
   "id": "b5e0356d-d96e-4390-b870-9408c6cf3209",
   "metadata": {},
   "outputs": [],
   "source": []
  }
 ],
 "metadata": {
  "celltoolbar": "Slideshow",
  "kernelspec": {
   "display_name": "Python 3 (ipykernel)",
   "language": "python",
   "name": "python3"
  },
  "language_info": {
   "codemirror_mode": {
    "name": "ipython",
    "version": 3
   },
   "file_extension": ".py",
   "mimetype": "text/x-python",
   "name": "python",
   "nbconvert_exporter": "python",
   "pygments_lexer": "ipython3",
   "version": "3.9.10"
  },
  "rise": {
   "backimage": "mybackimage.png",
   "enable_chalkboard": true,
   "footer": "<h3>World!</h3>",
   "header": "<h1>Hello</h1>",
   "theme": "sky"
  }
 },
 "nbformat": 4,
 "nbformat_minor": 5
}
