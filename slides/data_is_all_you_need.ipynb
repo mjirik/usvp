{
 "cells": [
  {
   "cell_type": "markdown",
   "id": "4fe9a52d-7b34-47f2-8943-f3ad81541a02",
   "metadata": {},
   "source": [
    "# Data is all you need\n",
    "\n",
    "## Miroslav  Jiřík"
   ]
  },
  {
   "cell_type": "markdown",
   "id": "7f07916a-aa61-4722-a2b0-d78d00fea805",
   "metadata": {},
   "source": [
    "# Goal\n",
    "\n",
    "* How to split dataset\n",
    "* Important dataset\n",
    "* End to end training\n",
    "* Metacentrum - Czech Computational Grid"
   ]
  },
  {
   "cell_type": "markdown",
   "id": "b412be4c-672a-443d-926e-cbe5f2df8fd0",
   "metadata": {
    "slideshow": {
     "slide_type": "slide"
    },
    "tags": []
   },
   "source": [
    "# How to split dataset\n",
    "\n",
    "## Training Dataset\n",
    "Training Dataset: The sample of data used to fit the model.\n",
    "The actual dataset that we use to train the model (weights and biases in the case of a Neural Network). The model sees and learns from this data.\n",
    "\n",
    "## Validation Dataset\n",
    "Validation Dataset: The sample of data used to provide an unbiased evaluation of a model fit on the training dataset while tuning model hyperparameters. The evaluation becomes more biased as skill on the validation dataset is incorporated into the model configuration.\n",
    "\n",
    "The validation set is used to evaluate a given model, but this is for frequent evaluation. \n",
    "\n",
    "## Test Dataset\n",
    "Test Dataset: The sample of data used to provide an unbiased evaluation of a final model fit on the training dataset. \n",
    "\n",
    "The Test dataset provides the gold standard used to evaluate the model. It is only used once a model is completely trained(using the train and validation sets). "
   ]
  },
  {
   "cell_type": "markdown",
   "id": "c5b7ead4-c697-4e40-a18c-5b33118a2423",
   "metadata": {
    "slideshow": {
     "slide_type": "slide"
    },
    "tags": []
   },
   "source": [
    "![train val test](https://miro.medium.com/max/1400/1*Nv2NNALuokZEcV6hYEHdGA.png)"
   ]
  },
  {
   "cell_type": "code",
   "execution_count": null,
   "id": "9d83b254-585e-4ac3-b11f-0f3735485864",
   "metadata": {
    "slideshow": {
     "slide_type": "slide"
    },
    "tags": []
   },
   "outputs": [],
   "source": [
    "\n",
    "import numpy as np\n",
    "from sklearn.model_selection import train_test_split"
   ]
  },
  {
   "cell_type": "code",
   "execution_count": 11,
   "id": "5ebebbca-b3bf-49d9-b940-036d1e294492",
   "metadata": {
    "slideshow": {
     "slide_type": "slide"
    },
    "tags": []
   },
   "outputs": [
    {
     "data": {
      "text/plain": [
       "(array([[0, 1],\n",
       "        [2, 3],\n",
       "        [4, 5],\n",
       "        [6, 7],\n",
       "        [8, 9]]),\n",
       " range(0, 5))"
      ]
     },
     "execution_count": 11,
     "metadata": {},
     "output_type": "execute_result"
    }
   ],
   "source": [
    "X, y = np.arange(10).reshape((5, 2)), range(5)\n",
    "X,y"
   ]
  },
  {
   "cell_type": "code",
   "execution_count": 10,
   "id": "2a9051b1-f1ce-449a-8fb1-a3715cd87acd",
   "metadata": {
    "slideshow": {
     "slide_type": "slide"
    },
    "tags": []
   },
   "outputs": [
    {
     "data": {
      "text/plain": [
       "(array([[4, 5],\n",
       "        [0, 1],\n",
       "        [6, 7]]),\n",
       " array([[2, 3],\n",
       "        [8, 9]]),\n",
       " [2, 0, 3],\n",
       " [1, 4])"
      ]
     },
     "execution_count": 10,
     "metadata": {},
     "output_type": "execute_result"
    }
   ],
   "source": [
    "X_train, X_test, y_train, y_test = train_test_split(\n",
    "    X, y, test_size=0.33, random_state=42)\n",
    "\n",
    "X_train, X_test, y_train, y_test"
   ]
  },
  {
   "cell_type": "markdown",
   "id": "c1a66334-6797-499d-a1ea-dbb1c9523f8b",
   "metadata": {
    "slideshow": {
     "slide_type": "slide"
    },
    "tags": []
   },
   "source": [
    "## References \n",
    "\n",
    "* [Train, validation and test sets](https://towardsdatascience.com/train-validation-and-test-sets-72cb40cba9e7)\n",
    "* [scikit-learn](https://scikit-learn.org/stable/modules/generated/sklearn.model_selection.train_test_split.html)"
   ]
  },
  {
   "cell_type": "markdown",
   "id": "c9138553-f68f-4c1e-b5a1-a7ed36adf6a4",
   "metadata": {
    "slideshow": {
     "slide_type": "slide"
    },
    "tags": []
   },
   "source": [
    "# End to end training\n",
    "\n",
    "![traditional cv vs deep learning](https://www.researchgate.net/profile/Niall-O-Mahony/publication/331586553/figure/fig1/AS:753501407809536@1556660143025/a-Traditional-Computer-Vision-workflow-vs-b-Deep-Learning-workflow-Figure-from-8.jpg)\n",
    "\n",
    "Taken from \"Deep Learning vs. Traditional Computer Vision\"\n",
    "\n"
   ]
  },
  {
   "cell_type": "markdown",
   "id": "be726d89-f693-40b8-8b07-5563393ff276",
   "metadata": {
    "slideshow": {
     "slide_type": "slide"
    },
    "tags": []
   },
   "source": [
    "![Building block of a CNN](https://www.researchgate.net/profile/Niall-O-Mahony/publication/331586553/figure/fig2/AS:753501407817728@1556660143057/Building-blocks-of-a-CNN-Figure-from-13.ppm)\n",
    "\n",
    "\n",
    "Taken from \"Deep Learning vs. Traditional Computer Vision\""
   ]
  },
  {
   "cell_type": "code",
   "execution_count": null,
   "id": "b2a060aa-df0e-47c3-b210-16f65507a9f7",
   "metadata": {},
   "outputs": [],
   "source": []
  },
  {
   "cell_type": "markdown",
   "id": "81822ae4-0602-4c53-8fe0-8d67ceeaa668",
   "metadata": {},
   "source": [
    "## Deep learning\n",
    "\n",
    "[Teachable Machine](https://teachablemachine.withgoogle.com/)\n",
    "\n",
    "[Detectron2 in Google Colab](https://colab.research.google.com/github/Tony607/detectron2_instance_segmentation_demo/blob/master/Detectron2_custom_coco_data_segmentation.ipynb#scrollTo=MWknKqWTWIw9)\n",
    "\n",
    "[Detetron2 on Windows](https://github.com/mjirik/tutorials/tree/main/detectron_windows)"
   ]
  },
  {
   "cell_type": "markdown",
   "id": "a96002a3-7755-45b6-a574-1ee490ca2ad0",
   "metadata": {},
   "source": [
    "## References\n",
    "* [Deep Learning vs. Traditional Computer Vision](http://dx.doi.org/10.1007/978-3-030-17795-9_10)"
   ]
  },
  {
   "cell_type": "markdown",
   "id": "79c0335c-fc91-41f4-a0c1-c76a8e6e4e1b",
   "metadata": {},
   "source": [
    "# Metacentrum\n",
    "\n",
    "[Beginners Guide](https://wiki.metacentrum.cz/wiki/Beginners_guide)\n",
    "\n",
    "[Jupyter for MetaCentrum Users](https://wiki.metacentrum.cz/wiki/Jupyter_for_MetaCentrum_users)\n",
    "\n",
    "[Detectron2 on MetaCentrum](https://github.com/mjirik/tutorials/tree/main/metacentrum/detectron2_quickstart)"
   ]
  },
  {
   "cell_type": "code",
   "execution_count": null,
   "id": "99a86b7e-5cd7-4a22-80fe-1f12ee8c4e24",
   "metadata": {},
   "outputs": [],
   "source": []
  }
 ],
 "metadata": {
  "kernelspec": {
   "display_name": "Python 3 (ipykernel)",
   "language": "python",
   "name": "python3"
  },
  "language_info": {
   "codemirror_mode": {
    "name": "ipython",
    "version": 3
   },
   "file_extension": ".py",
   "mimetype": "text/x-python",
   "name": "python",
   "nbconvert_exporter": "python",
   "pygments_lexer": "ipython3",
   "version": "3.9.10"
  }
 },
 "nbformat": 4,
 "nbformat_minor": 5
}
