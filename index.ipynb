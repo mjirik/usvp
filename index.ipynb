{
 "cells": [
  {
   "cell_type": "markdown",
   "id": "2b9c17bc-5a40-411a-a404-38648ac09641",
   "metadata": {
    "slideshow": {
     "slide_type": "slide"
    },
    "tags": []
   },
   "source": [
    "# Index\n",
    "\n",
    "This is index"
   ]
  },
  {
   "cell_type": "code",
   "execution_count": null,
   "id": "cbc77afb-ce0f-4c66-99ce-d87092892d68",
   "metadata": {
    "slideshow": {
     "slide_type": "subslide"
    },
    "tags": []
   },
   "outputs": [],
   "source": [
    "Sub"
   ]
  },
  {
   "cell_type": "markdown",
   "id": "9c1d4b73-0bea-4e7a-8a6f-210f63a2fa91",
   "metadata": {
    "slideshow": {
     "slide_type": "slide"
    },
    "tags": []
   },
   "source": [
    "# Next Frame"
   ]
  },
  {
   "cell_type": "code",
   "execution_count": 1,
   "id": "91f3bf0d-9abf-45a0-8e96-867ff0e437aa",
   "metadata": {
    "slideshow": {
     "slide_type": "fragment"
    },
    "tags": []
   },
   "outputs": [],
   "source": [
    "import numpy as np"
   ]
  },
  {
   "cell_type": "markdown",
   "id": "de69a50a-59a0-4f7f-91b2-529752d5dc4c",
   "metadata": {},
   "source": [
    "```python\n",
    "import scipy\n",
    "```"
   ]
  },
  {
   "cell_type": "code",
   "execution_count": null,
   "id": "11efb270-a8c8-4add-a472-bbf2126207fa",
   "metadata": {},
   "outputs": [],
   "source": []
  }
 ],
 "metadata": {
  "kernelspec": {
   "display_name": "Python 3 (ipykernel)",
   "language": "python",
   "name": "python3"
  },
  "language_info": {
   "codemirror_mode": {
    "name": "ipython",
    "version": 3
   },
   "file_extension": ".py",
   "mimetype": "text/x-python",
   "name": "python",
   "nbconvert_exporter": "python",
   "pygments_lexer": "ipython3",
   "version": "3.9.10"
  }
 },
 "nbformat": 4,
 "nbformat_minor": 5
}
